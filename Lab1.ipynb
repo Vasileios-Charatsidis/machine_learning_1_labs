{
 "cells": [
  {
   "cell_type": "markdown",
   "metadata": {},
   "source": [
    "# Lab 1: Linear Regression and Overfitting\n",
    "\n",
    "### Machine Learning and Pattern Recognition, September 2016\n",
    "\n",
    "* The lab exercises should be made in groups of two people.\n",
    "* The deadline is sunday September 25, 23:59.\n",
    "* Assignment should be sent to your teaching assistant. The subject line of your email should be \"\\#lab\\_lastname1\\_lastname2\\_lastname3\".\n",
    "* Put your and your teammates' names in the body of the email\n",
    "* Attach the .IPYNB (IPython Notebook) file containing your code and answers. Naming of the file follows the same rule as the subject line. For example, if the subject line is \"lab01\\_Kingma\\_Hu\", the attached file should be \"lab01\\_Kingma\\_Hu.ipynb\". Only use underscores (\"\\_\") to connect names, otherwise the files cannot be parsed.\n",
    "* Make sure we can run your notebook / scripts!\n",
    "\n",
    "Notes on implementation:\n",
    "\n",
    "* You should write your code and answers in this IPython Notebook: http://ipython.org/notebook.html. If you have problems, please contact your teaching assistant.\n",
    "* Please write your answers right below the questions.\n",
    "* Among the first lines of your notebook should be \"%pylab inline\". This imports all required modules, and your plots will appear inline.\n",
    "* Refer to last week's lab notes, i.e. http://docs.scipy.org/doc/, if you are unsure about what function to use. There are different correct ways to implement each problem!\n",
    "* For this lab, your regression solutions should be in closed form, i.e., should not perform iterative gradient-based optimization but find the exact optimum directly."
   ]
  },
  {
   "cell_type": "code",
   "execution_count": 1,
   "metadata": {
    "collapsed": false
   },
   "outputs": [
    {
     "name": "stdout",
     "output_type": "stream",
     "text": [
      "Populating the interactive namespace from numpy and matplotlib\n"
     ]
    }
   ],
   "source": [
    "%pylab inline\n",
    "import numpy as np\n",
    "import matplotlib.pyplot as plt"
   ]
  },
  {
   "cell_type": "markdown",
   "metadata": {},
   "source": [
    "$\\newcommand{\\bPhi}{\\mathbf{\\Phi}}$\n",
    "$\\newcommand{\\bx}{\\mathbf{x}}$\n",
    "$\\newcommand{\\bw}{\\mathbf{w}}$\n",
    "$\\newcommand{\\bt}{\\mathbf{t}}$\n",
    "$\\newcommand{\\by}{\\mathbf{y}}$\n",
    "$\\newcommand{\\bm}{\\mathbf{m}}$\n",
    "$\\newcommand{\\bS}{\\mathbf{S}}$\n",
    "$\\newcommand{\\bI}{\\mathbf{I}}$\n",
    "\n",
    "## Part 1: Polynomial Regression"
   ]
  },
  {
   "cell_type": "markdown",
   "metadata": {},
   "source": [
    "### 1.1. Generate sinusoidal data (5 points)\n",
    "Write a method `gen_sinusoidal(N)` that generates toy data like in fig 1.2 of Bishop's book. The method should have a parameter $N$, and should return $N$-dimensional vectors $\\bx$ and $\\bt$, where $\\bx$ contains evenly spaced values from 0 to (including) 2$\\pi$, and the elements $t_i$ of $\\bt$ are distributed according to:\n",
    "\n",
    "$$t_i \\sim \\mathcal{N}(\\mu_i, \\sigma^2)$$\n",
    "\n",
    "where $x_i$ is the $i$-th elements of $\\bf{x}$, the mean $\\mu_i = sin(x_i)$ and the standard deviation $\\sigma = 0.2$.\n"
   ]
  },
  {
   "cell_type": "code",
   "execution_count": 2,
   "metadata": {
    "collapsed": false
   },
   "outputs": [],
   "source": [
    "def gen_sinusoidal(N):\n",
    "    # Generate x and t\n",
    "    x = np.linspace(0,2 * np.pi,N)\n",
    "    t = np.empty((N,1))\n",
    "    for i in range(N):\n",
    "        mu, sigma = np.sin(x[i]), 0.2\n",
    "        t[i] = np.random.normal(mu, sigma**2, 1)\n",
    "        \n",
    "    # Plotting\n",
    "    # TO-DO REMOVE THIS.\n",
    "#     plt.figure(figsize=(10,6))\n",
    "#     plt.plot(x,t,'go')\n",
    "#     plt.xlabel('x')\n",
    "#     plt.ylabel('t')\n",
    "#     plt.grid(True)\n",
    "    \n",
    "    return x,t"
   ]
  },
  {
   "cell_type": "markdown",
   "metadata": {},
   "source": [
    "### 1.2 Polynomial regression (15 points)\n",
    "\n",
    "Write a method `fit_polynomial(x, t, M)` that finds the maximum-likelihood solution of an _unregularized_ $M$-th order polynomial for some dataset `x`. The error function to minimize w.r.t. $\\bw$ is:\n",
    "\n",
    "$E(\\bw) = \\frac{1}{2} (\\bPhi\\bw - \\bt)^T(\\bPhi\\bw - \\bt)$\n",
    "\n",
    "where $\\bPhi$ is the _feature matrix_ (or _design matrix_) as explained in Bishop's book at section 3.1.1, $\\bt$ is the vector of target values. Your method should return a vector $\\bw$ with the maximum-likelihood parameter estimates. "
   ]
  },
  {
   "cell_type": "code",
   "execution_count": 3,
   "metadata": {
    "collapsed": false
   },
   "outputs": [],
   "source": [
    "def generate_dmatrix(x, M):\n",
    "    \"\"\"\n",
    "    Genereates a design matrix for univariate polynomial regression.\n",
    "    \"\"\"\n",
    "    design_matrix = np.zeros((x.shape[0], M + 1))\n",
    "    for index, value in enumerate(x):\n",
    "        x_array = np.array(value).reshape((1,1))\n",
    "        power_matrix = np.tile(np.arange(M + 1), (x_array.shape[1], 1))\n",
    "        design_matrix[index] = np.power(x_array, power_matrix)\n",
    "        \n",
    "    return design_matrix\n",
    "\n",
    "def optimum_weights(design_matrix, t, lmbd=0.):\n",
    "    \"\"\"\n",
    "    :design_matrix: Given a dataset x, the design matrix is generated by constructing a matrix\n",
    "    where the rows are linear combinations of parameters and basis functions.\n",
    "    :t: Target vector for a dataset.\n",
    "    :lmbd: Regularization parameter used to penalize high parameters that would otherwise overfit.\n",
    "    \n",
    "    Method used to compute the optimum w (w*) for a linear regression model.\n",
    "    If lambda is given, the function will simply minimize a regularized least squares expression.\n",
    "    Which is the equivalent of obtaining the maximum a posterior for the given regression problem.\n",
    "    If no lambda is given, the equation transforms into a minimization of the sum-of-squared errors\n",
    "    function. Which is equivalent to maximizing the likelihood, given a gaussian noise model.\n",
    "    \"\"\"\n",
    "    # Identity matrix\n",
    "    I = np.identity(design_matrix.shape[1])\n",
    "    \n",
    "    # Compute w\n",
    "    w = np.linalg.pinv((lmbd * I) + design_matrix.T.dot(design_matrix)).dot(design_matrix.T.dot(t))    \n",
    "    return w\n",
    "    \n",
    "def fit_polynomial(x, t, M):\n",
    "    \"\"\"\n",
    "    This assumes univariate polynomial regression\n",
    "    i.e. x is a dataset of n observations - (x1,x2..,xn)\n",
    "    t is corresponding target value vector.\n",
    "    \"\"\"\n",
    "    # Create design matrix\n",
    "    design_matrix = generate_dmatrix(x, M)\n",
    "    \n",
    "    # Get optimum w\n",
    "    w = optimum_weights(design_matrix, t)\n",
    "    return w"
   ]
  },
  {
   "cell_type": "markdown",
   "metadata": {},
   "source": [
    "### 1.3 Plot (5 points)\n",
    "Sample a dataset with $N=9$, and fit four polynomials with $M \\in (0, 1, 3, 9)$.\n",
    "For each value of $M$, plot the prediction function, along with the data and the original sine function. The resulting figure should look similar to fig 1.4 of the Bishop's book. Note that you can use matplotlib's `plt.pyplot(.)` functionality for creating grids of figures."
   ]
  },
  {
   "cell_type": "code",
   "execution_count": 4,
   "metadata": {
    "collapsed": false
   },
   "outputs": [
    {
     "data": {
      "image/png": "[encoded data removed]",
      "text/plain": [
       "<matplotlib.figure.Figure at 0x111c69d10>"
      ]
     },
     "metadata": {},
     "output_type": "display_data"
    },
    {
     "data": {
      "image/png": "[encoded data removed]",
      "text/plain": [
       "<matplotlib.figure.Figure at 0x111c69c90>"
      ]
     },
     "metadata": {},
     "output_type": "display_data"
    },
    {
     "data": {
      "image/png": "[encoded data removed]",
      "text/plain": [
       "<matplotlib.figure.Figure at 0x111d47f10>"
      ]
     },
     "metadata": {},
     "output_type": "display_data"
    },
    {
     "data": {
      "image/png": "[encoded data removed]",
      "text/plain": [
       "<matplotlib.figure.Figure at 0x111e254d0>"
      ]
     },
     "metadata": {},
     "output_type": "display_data"
    }
   ],
   "source": [
    "def plot_sinusoidal(x, t, M):\n",
    "    # Get optimum weights for dataset and polynomial order.\n",
    "    w = fit_polynomial(x, t, M)\n",
    "    \n",
    "    # Get design matrix\n",
    "    dmatrix = generate_dmatrix(x, M)\n",
    "    \n",
    "    # Compute prediction function\n",
    "    prediction_function = np.dot(dmatrix,w)\n",
    "    \n",
    "    # Plot\n",
    "    plt.figure(figsize=(6,6))\n",
    "    plt.plot(x, t, 'ro')\n",
    "    plt.plot(x, prediction_function, 'r', label='Fitted line')\n",
    "    plt.axis([np.amin(x)-1, np.amax(x)+1, np.amin(t)-1, np.amax(t)+1])\n",
    "    plt.show()\n",
    "    \n",
    "x, t = gen_sinusoidal(9)\n",
    "plot_sinusoidal(x, t, 0)\n",
    "plot_sinusoidal(x, t, 1)\n",
    "plot_sinusoidal(x, t, 3)\n",
    "plot_sinusoidal(x, t, 9)"
   ]
  },
  {
   "cell_type": "markdown",
   "metadata": {},
   "source": [
    "### 1.4 Regularized linear regression (10 points)\n",
    "\n",
    "Write a method `fit_polynomial_reg(x, t, M, lamb)` that fits a _regularized_ $M$-th order polynomial to the sinusoidal data, as discussed in the lectures, where `lamb` is the regularization term _lambda_. (Note that 'lambda' cannot be used as a variable name in Python since it has a special meaning). The error function to minimize w.r.t. $\\bw$:\n",
    "\n",
    "$E(\\bw) = \\frac{1}{2} (\\bPhi\\bw - \\bt)^T(\\bPhi\\bw - \\bt) + \\frac{\\lambda}{2} \\mathbf{w}^T \\mathbf{w}$\n",
    "\n",
    "For background, see section 3.1.4 of Bishop's book."
   ]
  },
  {
   "cell_type": "code",
   "execution_count": 5,
   "metadata": {
    "collapsed": false
   },
   "outputs": [],
   "source": [
    "def fit_polynomial_reg(x, t, M, lamb):\n",
    "    # Create design matrix\n",
    "    design_matrix = generate_dmatrix(x, M)\n",
    "    \n",
    "    # Get optimum w\n",
    "    w = optimum_weights(design_matrix, t, lamb)\n",
    "    \n",
    "    return w"
   ]
  },
  {
   "cell_type": "markdown",
   "metadata": {},
   "source": [
    "\n",
    "\n",
    "\n",
    "\n",
    "\n",
    "### 1.5 Model selection by cross-validation (10 points)\n",
    "Use cross-validation to find a good choice of $M$ and $\\lambda$, given a dataset of $N=9$ datapoints generated with `gen_sinusoidal(9)`. You should write a function that tries (loops over) a reasonable range of choices of $M$ and $\\lambda$, and returns the choice with the best cross-validation error. In this case you can use $K=9$ folds, corresponding to _leave-one-out_ crossvalidation.\n",
    "\n",
    "You can let $M \\in (0, 1, ..., 10)$, and let $\\lambda \\in (e^{-10}, e^{-9}, ..., e^{0})$.\n",
    "\n",
    "To get you started, here's a method you can use to generate indices of cross-validation folds."
   ]
  },
  {
   "cell_type": "code",
   "execution_count": 6,
   "metadata": {
    "collapsed": false
   },
   "outputs": [
    {
     "name": "stdout",
     "output_type": "stream",
     "text": [
      "Best polynomial order is 5\n",
      "Best regularization value is 0.000911881965555\n"
     ]
    },
    {
     "name": "stderr",
     "output_type": "stream",
     "text": [
      "/usr/local/lib/python2.7/site-packages/ipykernel/__main__.py:12: VisibleDeprecationWarning: using a non-integer number instead of an integer will result in an error in the future\n"
     ]
    }
   ],
   "source": [
    "def compute_regularized_error(X, t, w, lamb):\n",
    "    error = (1./2.) * np.dot((X.dot(w) - t).T, (X.dot(w) - t)) + (lamb/2.) * (w.T.dot(w))\n",
    "    return error.item()\n",
    "\n",
    "def kfold_indices(N, k):\n",
    "    all_indices = np.arange(N,dtype=int)\n",
    "    np.random.shuffle(all_indices)\n",
    "    idx = np.floor(np.linspace(0,N,k+1))\n",
    "    train_folds = []\n",
    "    valid_folds = []\n",
    "    for fold in range(k):\n",
    "        valid_indices = all_indices[idx[fold]:idx[fold+1]]\n",
    "        valid_folds.append(valid_indices)\n",
    "        train_folds.append(np.setdiff1d(all_indices, valid_indices))\n",
    "    return train_folds, valid_folds\n",
    "\n",
    "def find_optimum_params(x, t, M_values, lmbd_values):\n",
    "    # Store best parameters\n",
    "    best_params = {}\n",
    "\n",
    "    # Cross-validation folds.\n",
    "    tr_indices, val_indices = kfold_indices(9,9)\n",
    "\n",
    "    for order in M_values:\n",
    "        \n",
    "        # Generate dataset\n",
    "        X = generate_dmatrix(x, order)\n",
    "            \n",
    "        for lmb in lmbd_values:\n",
    "            # Store average error for this combination\n",
    "            average_error = 0\n",
    "            folds = 0\n",
    "            \n",
    "            for train_index, validation_index in zip(tr_indices, val_indices):\n",
    "                # Separate training and validation sets\n",
    "                X_train, X_validate = X[train_index], X[validation_index]\n",
    "                t_train, t_validate = t[train_index], t[validation_index]\n",
    "\n",
    "                # Get optimum w for training set\n",
    "                w = optimum_weights(X_train, t_train, lmb)\n",
    "\n",
    "                # Get error on validation set\n",
    "                error = compute_regularized_error(X_validate, t_validate, w, lmb)\n",
    "\n",
    "                average_error += error\n",
    "                folds += 1\n",
    "            \n",
    "            average_error = average_error / float(folds)\n",
    "            \n",
    "            # Store the average error for this specific combination.\n",
    "            best_params[(order, lmb)] = average_error\n",
    "\n",
    "    best_ord, best_lmbd = min(best_params, key=best_params.get)\n",
    "    return best_ord, best_lmbd\n",
    "    \n",
    "\n",
    "\n",
    "x, t = gen_sinusoidal(9)\n",
    "Mvals = np.arange(0,11)\n",
    "lmb_vals = np.exp(np.arange(-10,1))\n",
    "\n",
    "optimum_M, optimum_lmbd = find_optimum_params(x, t, Mvals, lmb_vals)\n",
    "print \"Best polynomial order is \" + str(optimum_M)\n",
    "print \"Best regularization value is \" + str(optimum_lmbd)"
   ]
  },
  {
   "cell_type": "markdown",
   "metadata": {},
   "source": [
    "Create a comprehensible plot of the cross-validation error for each choice of $M$ and $\\lambda$. Highlight the best choice. \n",
    "\n",
    "_Question_: Explain over-fitting and underfitting, illuminated by your plot. Explain the relationship with model bias and model variance."
   ]
  },
  {
   "cell_type": "markdown",
   "metadata": {},
   "source": [
    "Answer:"
   ]
  },
  {
   "cell_type": "markdown",
   "metadata": {},
   "source": [
    "### 1.6 Plot best cross-validated fit (5 points)\n",
    "\n",
    "For some dataset with $N = 9$, plot the model with the optimal $M$ and $\\lambda$ according to the cross-validation error, using the method you just wrote. Let the plot make clear which $M$ and $\\lambda$ were found."
   ]
  },
  {
   "cell_type": "code",
   "execution_count": 7,
   "metadata": {
    "collapsed": false
   },
   "outputs": [
    {
     "name": "stderr",
     "output_type": "stream",
     "text": [
      "/usr/local/lib/python2.7/site-packages/ipykernel/__main__.py:12: VisibleDeprecationWarning: using a non-integer number instead of an integer will result in an error in the future\n"
     ]
    },
    {
     "data": {
      "image/png": "[encoded data removed]",
      "text/plain": [
       "<matplotlib.figure.Figure at 0x110782390>"
      ]
     },
     "metadata": {},
     "output_type": "display_data"
    }
   ],
   "source": [
    "def plot_bestcrossv_fit():\n",
    "    x, t = gen_sinusoidal(9)\n",
    "    Mvals = np.arange(0,11)\n",
    "    lmb_vals = np.exp(np.arange(-10,1))\n",
    "\n",
    "    optimum_M, optimum_lmbd = find_optimum_params(x, t, Mvals, lmb_vals)\n",
    "    design_m = generate_dmatrix(x, optimum_M)\n",
    "    optimum_w = optimum_weights(design_m, t, optimum_lmbd)\n",
    "\n",
    "    y = np.dot(design_m,optimum_w)\n",
    "\n",
    "    plt.figure(figsize=(10,6))\n",
    "    plt.plot(x, t, 'ro')\n",
    "    plt.plot(x, y, 'r', label='Fitted line')\n",
    "    plt.axis([np.amin(x)-1, np.amax(x)+1, np.amin(t)-1, np.amax(t)+1])\n",
    "    plt.show()\n",
    "    \n",
    "plot_bestcrossv_fit()"
   ]
  },
  {
   "cell_type": "markdown",
   "metadata": {},
   "source": [
    "## Part 2: Bayesian Linear (Polynomial) Regression\n",
    "\n",
    "### 2.1 Sinusoidal data 2 (5 points)\n",
    "\n",
    "Write a function `gen_sinusoidal2(N)` that behaves identically to `gen_sinusoidal(N)` except that the generated values $x_i$ are not linearly spaced, but drawn from a uniform distribution between $0$ and $2 \\pi$."
   ]
  },
  {
   "cell_type": "code",
   "execution_count": 8,
   "metadata": {
    "collapsed": false
   },
   "outputs": [],
   "source": [
    "def gen_sinusoidal2(N):\n",
    "    x = np.random.uniform(0, np.pi * 2, N)\n",
    "    t = np.empty((N,1))\n",
    "    for i in range(N):\n",
    "        mu, sigma = np.sin(x[i]), 0.2\n",
    "        t[i] = np.random.normal(mu, sigma**2, 1)\n",
    "        \n",
    "#     # TO-DO: DELETE\n",
    "#     plt.figure(figsize=(10,6))\n",
    "#     plt.plot(x, t, 'ro')\n",
    "#     plt.xlabel('x')\n",
    "#     plt.ylabel('t')\n",
    "#     plt.grid(True)\n",
    "#     plt.axis([-0.1,6.5,-2,2])\n",
    "\n",
    "    return x, t"
   ]
  },
  {
   "cell_type": "markdown",
   "metadata": {},
   "source": [
    "### 2.2 Compute Posterior (15 points)\n",
    "\n",
    "You're going to implement a Bayesian linear regression model, and fit it to the sinusoidal data. Your regression model has a zero-mean isotropic Gaussian prior over the parameters, governed by a single (scalar) precision parameter $\\alpha$, i.e.:\n",
    "\n",
    "$$p(\\bw \\;|\\; \\alpha) = \\mathcal{N}(\\bw \\;|\\; 0, \\alpha^{-1} \\bI)$$\n",
    "\n",
    "The covariance and mean of the posterior are given by:\n",
    "\n",
    "$$\\bS_N= \\left( \\alpha \\bI + \\beta \\bPhi^T \\bPhi \\right)^{-1} $$\n",
    "$$\\bm_N = \\beta\\; \\bS_N \\bPhi^T \\bt$$\n",
    "\n",
    "where $\\alpha$ is the precision of the predictive distribution, and $\\beta$ is the noise precision. \n",
    "See MLPR chapter 3.3 for background.\n",
    "\n",
    "Write a method `fit_polynomial_bayes(x, t, M, alpha, beta)` that returns the mean $\\bm_N$ and covariance $\\bS_N$ of the posterior for a $M$-th order polynomial, given a dataset, where `x`, `t` and `M` have the same meaning as in question 1.2."
   ]
  },
  {
   "cell_type": "code",
   "execution_count": 9,
   "metadata": {
    "collapsed": false
   },
   "outputs": [],
   "source": [
    "def fit_polynomial_bayes(x, t, M, alpha, beta):\n",
    "    # Generate matrix and I\n",
    "    design_matrix = generate_dmatrix(x, M)\n",
    "    I = np.identity(design_matrix.shape[1])\n",
    "    \n",
    "    # Compute cov and mean.\n",
    "    covariance = np.linalg.pinv(((alpha * I) + (beta * (design_matrix.T.dot(design_matrix)))))\n",
    "    mean = beta * covariance.dot(design_matrix.T.dot(t))\n",
    "    \n",
    "    return mean, covariance"
   ]
  },
  {
   "cell_type": "markdown",
   "metadata": {},
   "source": [
    "### 2.3 Prediction (10 points)\n",
    "\n",
    "The predictive distribution of Bayesian linear regression is:\n",
    "\n",
    "$$ p(t \\;|\\; \\bx, \\bt, \\alpha, \\beta) = \\mathcal{N}(t \\;|\\; \\bm_N^T \\phi(\\bx), \\sigma_N^2(\\bx))$$\n",
    "\n",
    "$$ \\sigma_N^2 = \\frac{1}{\\beta} + \\phi(\\bx)^T \\bS_N \\phi(\\bx) $$\n",
    "\n",
    "where $\\phi(\\bx)$ are the computed features for a new datapoint $\\bx$, and $t$ is the predicted variable for datapoint $\\bx$. \n",
    "\n",
    "Write a function that `predict_polynomial_bayes(x, m, S, beta)` that returns the predictive mean and variance given a new datapoint `x`, posterior mean `m`, posterior variance `S` and a choice of model variance `beta`."
   ]
  },
  {
   "cell_type": "code",
   "execution_count": 10,
   "metadata": {
    "collapsed": false
   },
   "outputs": [],
   "source": [
    "def predict_polynomial_bayes(x, m, S, beta):\n",
    "    # As x is given only as a datapoint, i.e.: x = 3, we need to actually\n",
    "    # compute the linear function of x as a linear combination of w and x.\n",
    "    # now the order of the polynomial is not given but we can infer it from \n",
    "    # the size of m - 1 = the number of ws necessary = the order of the polynomial.\n",
    "    phi_x = generate_dmatrix(np.array([x]), len(m) - 1).T\n",
    "        \n",
    "    # Compute the predictive variance\n",
    "    predictive_variance = (1. / beta) + (np.dot(phi_x.T, S).dot(phi_x))\n",
    "    \n",
    "    # Compute predictive mean\n",
    "    predictive_mean = np.dot(m.T, phi_x)\n",
    "    \n",
    "    return predictive_mean.item(), predictive_variance.item()\n",
    "\n",
    "# Versions of x to test for the function:\n",
    "# 2, [2], np.array([2]), np.array(2), np.asarray(2), np.asarray([2])\n",
    "# Tested, all working.\n",
    "\n",
    "\n",
    "# Some tests for this method:\n",
    "# x, t = gen_sinusoidal2(9)\n",
    "# mean, cov = fit_polynomial_bayes(x, t, 4, 0., 25)\n",
    "\n",
    "# design = generate_dmatrix(x, 4)\n",
    "# w = optimum_weights(design, t)\n",
    "\n",
    "# m, v = predict_polynomial_bayes(2, mean, cov, 25)\n",
    "\n",
    "# print m\n",
    "\n",
    "# result = np.dot(w.T, generate_dmatrix(np.array([2]), len(mean) - 1).T)\n",
    "\n",
    "# print result"
   ]
  },
  {
   "cell_type": "markdown",
   "metadata": {},
   "source": [
    "### 2.4 Plot predictive distribution (10 points)\n",
    "\n",
    "a) (5 points) Generate 7 datapoints with `gen_sinusoidal2(7)`. Compute the posterior mean and covariance for a Bayesian polynomial regression model with $M=5$, $\\alpha=\\frac{1}{2}$ and $\\beta=\\frac{1}{0.2^2}$.\n",
    "Plot the Bayesian predictive distribution, where you plot (for $x$ between 0 and $2 \\pi$) $t$'s predictive mean and a 1-sigma predictive variance using `plt.fill_between(..., alpha=0.1)` (the alpha argument induces transparency).\n",
    "\n",
    "Include the datapoints in your plot.\n",
    "\n",
    "b) (5 points) For a second plot, draw 100 samples from the parameters' posterior distribution. Each of these samples is a certain choice of parameters for 5-th order polynomial regression. \n",
    "Display each of these 100 polynomials."
   ]
  },
  {
   "cell_type": "code",
   "execution_count": null,
   "metadata": {
    "collapsed": false,
    "scrolled": false
   },
   "outputs": [],
   "source": [
    "# # a)\n",
    "\n",
    "def plot_predictive():\n",
    "    # Generate initial dataset\n",
    "    x, t = gen_sinusoidal2(7)\n",
    "    M, alpha, beta = 5, 0.5, 25.\n",
    "    \n",
    "    # Sort values from smallest to biggest\n",
    "    idx = np.argsort(x)\n",
    "    x = x[idx]\n",
    "    t = t[idx]\n",
    "    \n",
    "    # Obtain posterior mean and covariance\n",
    "    posterior_mean, posterior_covariance = fit_polynomial_bayes(x, t, M, alpha, beta)\n",
    "    \n",
    "    # Sampling from 0 to 2pi\n",
    "    samples = np.linspace(0, np.pi * 2, 100)\n",
    "\n",
    "    # Predictive distribution for samples\n",
    "    # Save mean and variance.\n",
    "    sample_predictions = np.zeros(samples.shape)\n",
    "    sample_variances = np.zeros(samples.shape)\n",
    "    for index, val in enumerate(samples):\n",
    "        y, v = predict_polynomial_bayes(val, posterior_mean, posterior_covariance, beta)\n",
    "        sample_predictions[index] = y\n",
    "        sample_variances[index] = v\n",
    "    \n",
    "\n",
    "    plt.figure(figsize=(8,4))\n",
    "    plt.plot(x, t, 'bo')\n",
    "    plt.plot(samples, sample_predictions, 'r', label='Fitted line')\n",
    "    plt.fill_between(samples, sample_predictions + sample_variances, sample_predictions - sample_variances, alpha=0.1)\n",
    "    plt.axis([-1,7,-2,4])\n",
    "    plt.xlabel('x')\n",
    "    plt.ylabel('t')\n",
    "    plt.grid(True)\n",
    "\n",
    "plot_predictive()"
   ]
  },
  {
   "cell_type": "markdown",
   "metadata": {},
   "source": [
    "### 2.5 Additional questions (10 points)\n",
    "\n",
    "a) (5 points) Why is $\\beta=\\frac{1}{0.2^2}$ the best choice of $\\beta$ in section 2.4?\n",
    "\n",
    "b) (5 points) In the case of Bayesian linear regression, both the posterior of the parameters $p(\\bw \\;|\\; \\bt, \\alpha, \\beta)$ and the predictive distribution $p(t \\;|\\; \\bw, \\beta)$ are Gaussian. In consequence (and conveniently), $p(t \\;|\\; \\bt, \\alpha, \\beta)$ is also Gaussian (See Bishop's book section 3.3.2 and homework 2 question 4). This is actually one of the (rare) cases where we can make Bayesian predictions without resorting to approximative methods.\n",
    "\n",
    "Suppose you have to work with some model $p(t\\;|\\;x,\\bw)$ with parameters $\\bw$, where the posterior distribution $p(\\bw\\;|\\;\\mathcal{D})$ given dataset $\\mathcal{D}$ can not be integrated out when making predictions, but where you can still generate samples from the posterior distribution of the parameters. Explain how you can still make approximate Bayesian predictions using samples from the parameters' posterior distribution."
   ]
  },
  {
   "cell_type": "code",
   "execution_count": null,
   "metadata": {
    "collapsed": false
   },
   "outputs": [],
   "source": []
  }
 ],
 "metadata": {
  "kernelspec": {
   "display_name": "Python 2",
   "language": "python",
   "name": "python2"
  },
  "language_info": {
   "codemirror_mode": {
    "name": "ipython",
    "version": 2
   },
   "file_extension": ".py",
   "mimetype": "text/x-python",
   "name": "python",
   "nbconvert_exporter": "python",
   "pygments_lexer": "ipython2",
   "version": "2.7.11"
  }
 },
 "nbformat": 4,
 "nbformat_minor": 0
}
