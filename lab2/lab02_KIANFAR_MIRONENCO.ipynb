{
 "cells": [
  {
   "cell_type": "markdown",
   "metadata": {},
   "source": [
    "# Lab 2: Classification\n",
    "\n",
    "### Machine Learning 1, September 2016\n",
    "\n",
    "* The lab exercises should be made in groups of two people.\n",
    "* The deadline is October 9th (Sunday) 23:59.\n",
    "* Assignment should be sent to your teaching assistant. The subject line of your email should be \"lab\\#\\_lastname1\\_lastname2\\_lastname3\".\n",
    "* Put your and your teammates' names in the body of the email.\n",
    "* Attach the .IPYNB (IPython Notebook) file containing your code and answers. Naming of the file follows the same rule as the subject line. For example, if the subject line is \"lab01\\_Kingma\\_Hu\", the attached file should be \"lab01\\_Kingma\\_Hu.ipynb\". Only use underscores (\"\\_\") to connect names, otherwise the files cannot be parsed.\n",
    "\n",
    "Notes on implementation:\n",
    "\n",
    "* For this notebook you need to answer a few theory questions, add them in the Markdown cell's below the question. Note: you can use Latex-style code in here.\n",
    "* Focus on Part 1 the first week, and Part 2 the second week!\n",
    "* You should write your code and answers below the questions in this IPython Notebook.\n",
    "* Among the first lines of your notebook should be \"%pylab inline\". This imports all required modules, and your plots will appear inline.\n",
    "* If you have questions outside of the labs, post them on blackboard or email me.\n",
    "* NOTE: Make sure we can run your notebook / scripts!\n",
    "\n",
    "$\\newcommand{\\bx}{\\mathbf{x}}$\n",
    "$\\newcommand{\\bw}{\\mathbf{w}}$\n",
    "$\\newcommand{\\bt}{\\mathbf{t}}$\n",
    "$\\newcommand{\\by}{\\mathbf{y}}$\n",
    "$\\newcommand{\\bm}{\\mathbf{m}}$\n",
    "$\\newcommand{\\bb}{\\mathbf{b}}$\n",
    "$\\newcommand{\\bS}{\\mathbf{S}}$\n",
    "$\\newcommand{\\ba}{\\mathbf{a}}$\n",
    "$\\newcommand{\\bz}{\\mathbf{z}}$\n",
    "$\\newcommand{\\bv}{\\mathbf{v}}$\n",
    "$\\newcommand{\\bq}{\\mathbf{q}}$\n",
    "$\\newcommand{\\bp}{\\mathbf{p}}$\n",
    "$\\newcommand{\\bh}{\\mathbf{h}}$\n",
    "$\\newcommand{\\bI}{\\mathbf{I}}$\n",
    "$\\newcommand{\\bX}{\\mathbf{X}}$\n",
    "$\\newcommand{\\bT}{\\mathbf{T}}$\n",
    "$\\newcommand{\\bPhi}{\\mathbf{\\Phi}}$\n",
    "$\\newcommand{\\bW}{\\mathbf{W}}$\n",
    "$\\newcommand{\\bV}{\\mathbf{V}}$"
   ]
  },
  {
   "cell_type": "code",
   "execution_count": 1,
   "metadata": {
    "collapsed": false
   },
   "outputs": [
    {
     "name": "stdout",
     "output_type": "stream",
     "text": [
      "Populating the interactive namespace from numpy and matplotlib\n"
     ]
    }
   ],
   "source": [
    "%pylab inline\n",
    "import gzip, cPickle"
   ]
  },
  {
   "cell_type": "markdown",
   "metadata": {},
   "source": [
    "# Part 1. Multiclass logistic regression\n",
    "\n",
    "Scenario: you have a friend with one big problem: she's completely blind. You decided to help her: she has a special smartphone for blind people, and you are going to develop a mobile phone app that can do _machine vision_ using the mobile camera: converting a picture (from the camera) to the meaning of the image. You decide to start with an app that can read handwritten digits, i.e. convert an image of handwritten digits to text (e.g. it would enable her to read precious handwritten phone numbers).\n",
    "\n",
    "A key building block for such an app would be a function `predict_digit(x)` that returns the digit class of an image patch $\\bx$. Since hand-coding this function is highly non-trivial, you decide to solve this problem using machine learning, such that the internal parameters of this function are automatically learned using machine learning techniques.\n",
    "\n",
    "The dataset you're going to use for this is the MNIST handwritten digits dataset (`http://yann.lecun.com/exdb/mnist/`). You can load the data from `mnist.pkl.gz` we provided, using: "
   ]
  },
  {
   "cell_type": "code",
   "execution_count": 2,
   "metadata": {
    "collapsed": false
   },
   "outputs": [],
   "source": [
    "def load_mnist():\n",
    "    f = gzip.open('mnist.pkl.gz', 'rb')\n",
    "    data = cPickle.load(f)\n",
    "    f.close()\n",
    "    return data\n",
    "\n",
    "(x_train, t_train), (x_valid, t_valid), (x_test, t_test) = load_mnist()"
   ]
  },
  {
   "cell_type": "markdown",
   "metadata": {},
   "source": [
    "The tuples represent train, validation and test sets. The first element (`x_train`, `x_valid`, `x_test`) of each tuple is a $N \\times M$ matrix, where $N$ is the number of datapoints and $M = 28^2 = 784$ is the dimensionality of the data. The second element (`t_train`, `t_valid`, `t_test`) of each tuple is the corresponding $N$-dimensional vector of integers, containing the true class labels.\n",
    "\n",
    "Here's a visualisation of the first 8 digits of the trainingset:"
   ]
  },
  {
   "cell_type": "code",
   "execution_count": 3,
   "metadata": {
    "collapsed": false
   },
   "outputs": [
    {
     "data": {
      "image/png": "[encoded data removed]",
      "text/plain": [
       "<matplotlib.figure.Figure at 0x1072725d0>"
      ]
     },
     "metadata": {},
     "output_type": "display_data"
    }
   ],
   "source": [
    "def plot_digits(data, numcols, shape=(28,28)):\n",
    "    numdigits = data.shape[0]\n",
    "    numrows = int(numdigits/numcols)\n",
    "    for i in range(numdigits):\n",
    "        plt.subplot(numrows, numcols, i+1)\n",
    "        plt.axis('off')\n",
    "        plt.imshow(data[i].reshape(shape), interpolation='nearest', cmap='Greys')\n",
    "    plt.show()\n",
    "    \n",
    "plot_digits(x_train[0:8], numcols=4)"
   ]
  },
  {
   "cell_type": "markdown",
   "metadata": {},
   "source": [
    "In _multiclass_ logistic regression, the conditional probability of class label $j$ given the image $\\bx$ for some datapoint is given by:\n",
    "\n",
    "$ \\log p(t = j \\;|\\; \\bx, \\bb, \\bW) = \\log q_j - \\log Z$\n",
    "\n",
    "where $\\log q_j = \\bw_j^T \\bx + b_j$ (the log of the unnormalized probability of the class $j$), and $Z = \\sum_k q_k$ is the normalizing factor. $\\bw_j$ is the $j$-th column of $\\bW$ (a matrix of size $784 \\times 10$) corresponding to the class label, $b_j$ is the $j$-th element of $\\bb$.\n",
    "\n",
    "Given an input image, the multiclass logistic regression model first computes the intermediate vector $\\log \\bq$ (of size $10 \\times 1$), using $\\log q_j = \\bw_j^T \\bx + b_j$, containing the unnormalized log-probabilities per class. \n",
    "\n",
    "The unnormalized probabilities are then normalized by $Z$ such that $\\sum_j p_j = \\sum_j \\exp(\\log p_j) = 1$. This is done by $\\log p_j = \\log q_j - \\log Z$ where $Z = \\sum_j \\exp(\\log q_j)$. This is known as the _softmax_ transformation, and is also used as a last layer of many classifcation neural network models, to ensure that the output of the network is a normalized distribution, regardless of the values of second-to-last layer ($\\log \\bq$)\n",
    "\n",
    "Warning: when computing $\\log Z$, you are likely to encounter numerical problems. Save yourself countless hours of debugging and learn the [log-sum-exp trick](https://hips.seas.harvard.edu/blog/2013/01/09/computing-log-sum-exp/ \"Title\").\n",
    "\n",
    "The network's output $\\log \\bp$ of size $10 \\times 1$ then contains the conditional log-probabilities $\\log p(t = j \\;|\\; \\bx, \\bb, \\bW)$ for each digit class $j$. In summary, the computations are done in this order:\n",
    "\n",
    "$\\bx \\rightarrow \\log \\bq \\rightarrow Z \\rightarrow \\log \\bp$\n",
    "\n",
    "Given some dataset with $N$ independent, identically distributed datapoints, the log-likelihood is given by:\n",
    "\n",
    "$ \\mathcal{L}(\\bb, \\bW) = \\sum_{n=1}^N \\mathcal{L}^{(n)}$\n",
    "\n",
    "where we use $\\mathcal{L}^{(n)}$ to denote the partial log-likelihood evaluated over a single datapoint. It is important to see that the log-probability of the class label $t^{(n)}$ given the image, is given by the $t^{(n)}$-th element of the network's output $\\log \\bp$, denoted by $\\log p_{t^{(n)}}$:\n",
    "\n",
    "$\\mathcal{L}^{(n)} = \\log p(t = t^{(n)} \\;|\\; \\bx = \\bx^{(n)}, \\bb, \\bW) = \\log p_{t^{(n)}} = \\log q_{t^{(n)}} - \\log Z^{(n)}$\n",
    "\n",
    "where $\\bx^{(n)}$ and $t^{(n)}$ are the input (image) and class label (integer) of the $n$-th datapoint, and $Z^{(n)}$ is the normalizing constant for the distribution over $t^{(n)}$.\n"
   ]
  },
  {
   "cell_type": "markdown",
   "metadata": {},
   "source": [
    "## 1.1 Gradient-based stochastic optimization\n",
    "\n",
    "### 1.1.1 Derive gradient equations (20 points)\n",
    "\n",
    "Derive the equations for computing the (first) partial derivatives of the log-likelihood w.r.t. all the parameters, evaluated at a _single_ datapoint $n$.\n",
    "\n",
    "You should start deriving the equations for $\\frac{\\partial \\mathcal{L}^{(n)}}{\\partial \\log q_j}$ for each $j$. For clarity, we'll use the shorthand $\\delta^q_j = \\frac{\\partial \\mathcal{L}^{(n)}}{\\partial \\log q_j}$.\n",
    "\n",
    "For $j = t^{(n)}$:\n",
    "$\n",
    "\\delta^q_j\n",
    "= \\frac{\\partial \\mathcal{L}^{(n)}}{\\partial \\log p_j}\n",
    "\\frac{\\partial \\log p_j}{\\partial \\log q_j}\n",
    "+ \\frac{\\partial \\mathcal{L}^{(n)}}{\\partial \\log Z}\n",
    "\\frac{\\partial \\log Z}{\\partial Z} \n",
    "\\frac{\\partial Z}{\\partial \\log q_j} \n",
    "= 1 \\cdot 1 - \\frac{\\partial \\log Z}{\\partial Z} \n",
    "\\frac{\\partial Z}{\\partial \\log q_j}\n",
    "= 1 - \\frac{\\partial \\log Z}{\\partial Z} \n",
    "\\frac{\\partial Z}{\\partial \\log q_j}\n",
    "$\n",
    "\n",
    "For $j \\neq t^{(n)}$:\n",
    "$\n",
    "\\delta^q_j\n",
    "= \\frac{\\partial \\mathcal{L}^{(n)}}{\\partial \\log Z}\n",
    "\\frac{\\partial \\log Z}{\\partial Z} \n",
    "\\frac{\\partial Z}{\\partial \\log q_j} \n",
    "= - \\frac{\\partial \\log Z}{\\partial Z} \n",
    "\\frac{\\partial Z}{\\partial \\log q_j}\n",
    "$\n",
    "\n",
    "Complete the above derivations for $\\delta^q_j$ by furtherly developing $\\frac{\\partial \\log Z}{\\partial Z}$ and $\\frac{\\partial Z}{\\partial \\log q_j}$. Both are quite simple. For these it doesn't matter whether $j = t^{(n)}$ or not.\n",
    "\n",
    "Given your equations for computing the gradients $\\delta^q_j$ it should be quite straightforward to derive the equations for the gradients of the parameters of the model, $\\frac{\\partial \\mathcal{L}^{(n)}}{\\partial W_{ij}}$ and $\\frac{\\partial \\mathcal{L}^{(n)}}{\\partial b_j}$. The gradients for the biases $\\bb$ are given by:\n",
    "\n",
    "$\n",
    "\\frac{\\partial \\mathcal{L}^{(n)}}{\\partial b_j}\n",
    "= \\frac{\\partial \\mathcal{L}^{(n)}}{\\partial \\log q_j}\n",
    "\\frac{\\partial \\log q_j}{\\partial b_j}\n",
    "= \\delta^q_j\n",
    "\\cdot 1\n",
    "= \\delta^q_j\n",
    "$\n",
    "\n",
    "The equation above gives the derivative of $\\mathcal{L}^{(n)}$ w.r.t. a single element of $\\bb$, so the vector $\\nabla_\\bb \\mathcal{L}^{(n)}$ with all derivatives of $\\mathcal{L}^{(n)}$ w.r.t. the bias parameters $\\bb$ is: \n",
    "\n",
    "$\n",
    "\\nabla_\\bb \\mathcal{L}^{(n)} = \\mathbf{\\delta}^q\n",
    "$\n",
    "\n",
    "where $\\mathbf{\\delta}^q$ denotes the vector of size $10 \\times 1$ with elements $\\mathbf{\\delta}_j^q$.\n",
    "\n",
    "The (not fully developed) equation for computing the derivative of $\\mathcal{L}^{(n)}$ w.r.t. a single element $W_{ij}$ of $\\bW$ is:\n",
    "\n",
    "$\n",
    "\\frac{\\partial \\mathcal{L}^{(n)}}{\\partial W_{ij}} =\n",
    "\\frac{\\partial \\mathcal{L}^{(n)}}{\\partial \\log q_j}\n",
    "\\frac{\\partial \\log q_j}{\\partial W_{ij}}\n",
    "= \\mathbf{\\delta}_j^q\n",
    "\\frac{\\partial \\log q_j}{\\partial W_{ij}}\n",
    "$\n",
    "\n",
    "What is $\\frac{\\partial \\log q_j}{\\partial W_{ij}}$? Complete the equation above.\n",
    "\n",
    "If you want, you can give the resulting equation in vector format ($\\nabla_{\\bw_j} \\mathcal{L}^{(n)} = ...$), like we did for $\\nabla_\\bb \\mathcal{L}^{(n)}$.\n",
    "\n",
    "#####Answer: "
   ]
  },
  {
   "cell_type": "markdown",
   "metadata": {},
   "source": [
    "\n",
    "$$\\begin{equation*}\n",
    "   \\begin{split}\n",
    "       \\dfrac{\\partial \\log Z}{\\partial Z} &= \\dfrac{1}{Z} \\\\\n",
    "       \\dfrac{\\partial Z}{\\partial \\log q_j} & = \\dfrac{\\partial \\sum_j \\exp(\\log q_j)}{\\partial \\log q_j} = q_j \\\\ \n",
    "       \\mathbf{\\delta}^q_j &= \\left ( \\mathbb{I}_{t^{(n)}j} - \\dfrac{q_j}{Z} \\right )\\\\\\\\\n",
    "       \\dfrac{\\partial \\log q_j}{\\partial W_{j}} =  \\dfrac{\\partial \\log q_j}{\\partial q_{j}} \\cdot  \\dfrac{\\partial q_j}{\\partial W_{j}} &= \\dfrac{1}{q_j} \\cdot q_j \\cdot \\bx = \\bx \\\\\n",
    "       \\nabla_{\\bW_j} \\mathcal{L}^{(n)} = \\dfrac{\\partial \\mathcal{L}^{(n)}}{\\partial W_{j}} = \\dfrac{\\partial \\mathcal{L}^{(n)}}{\\partial \\log q_{j}} \\cdot \\dfrac{\\partial \\log q_{j}}{\\partial W_{j}} &= \\mathbf{\\delta}_{j}^q \\cdot \\dfrac{\\partial \\log q_j}{\\partial W_{j}}  \\\\ &= \\bx \\cdot \\left (\\mathbb{I}_{t^{(n)}j} - \\dfrac{q_j}{Z^{(n)}} \\right)^T  \\\\\n",
    "       \\end{split}\n",
    "\\end{equation*}$$"
   ]
  },
  {
   "cell_type": "markdown",
   "metadata": {},
   "source": [
    "### 1.1.2 Implement gradient computations (10 points)\n",
    "\n",
    "Implement the gradient calculations you derived in the previous question. Write a function `logreg_gradient(x, t, w, b)` that returns the gradients $\\nabla_{\\bw_j} \\mathcal{L}^{(n)}$ (for each $j$) and $\\nabla_{\\bb} \\mathcal{L}^{(n)}$, i.e. the first partial derivatives of the log-likelihood w.r.t. the parameters $\\bW$ and $\\bb$, evaluated at a single datapoint (`x`, `t`).\n",
    "The computation will contain roughly the following intermediate variables:\n",
    "\n",
    "$\n",
    "\\log \\bq \\rightarrow Z \\rightarrow \\log \\bp\\,,\\, \\mathbf{\\delta}^q\n",
    "$\n",
    "\n",
    "followed by computation of the gradient vectors $\\nabla_{\\bw_j} \\mathcal{L}^{(n)}$ (contained in a $784 \\times 10$ matrix) and $\\nabla_{\\bb} \\mathcal{L}^{(n)}$ (a $10 \\times 1$ vector).\n"
   ]
  },
  {
   "cell_type": "code",
   "execution_count": 4,
   "metadata": {
    "collapsed": false
   },
   "outputs": [],
   "source": [
    "epsilon = 1e-4\n",
    "\n",
    "def softmax(z):\n",
    "    return np.exp(z) / np.sum(np.exp(z))\n",
    "\n",
    "def dummy_encoding(x):\n",
    "    a = np.zeros(10)\n",
    "    a[x] = 1\n",
    "    return a.reshape((10,1))\n",
    "\n",
    "def logreg_gradient(x, t, W, b):\n",
    "    \"\"\"\n",
    "    :x: - A 784x1 image vector.\n",
    "    :t: - A 10x1, 1-of-K vector representing the target label class.\n",
    "    :W: - 784x10 weight matrix\n",
    "    :b: - A 10x1 bias unit.\n",
    "    \"\"\"\n",
    "    # Compute the unnormalized probabilities of each class, i.e. log q.\n",
    "    z = np.dot(W.T, x) + b    \n",
    "    \n",
    "    # Compute softmax for each class, and reshape.\n",
    "    sftmax = softmax(z).reshape((10,1))\n",
    "    \n",
    "    # Initialize gradients.\n",
    "    gradients = np.zeros((784,10))\n",
    "    \n",
    "    # Compute gradient for w and b\n",
    "    x = x.reshape((784,1))\n",
    "    \n",
    "    # Compute delta_q\n",
    "    delta_q = t - sftmax\n",
    "    \n",
    "    w_gradient = np.dot(x,(delta_q).T)\n",
    "    b_gradient = delta_q\n",
    "    \n",
    "    return w_gradient, b_gradient.reshape((10,))"
   ]
  },
  {
   "cell_type": "markdown",
   "metadata": {},
   "source": [
    "\n",
    "### 1.1.3 Stochastic gradient descent (10 points)\n",
    "\n",
    "Write a function `sgd_iter(x_train, t_train, w, b)` that performs one iteration of stochastic gradient descent (SGD), and returns the new weights. It should go through the trainingset once in randomized order, call `logreg_gradient(x, t, w, b)` for each datapoint to get the gradients, and update the parameters using a small learning rate (e.g. `1E-4`). Note that in this case we're maximizing the likelihood function, so we should actually performing gradient ___ascent___... For more information about SGD, see Bishop 5.2.4 or an online source (i.e. https://en.wikipedia.org/wiki/Stochastic_gradient_descent)"
   ]
  },
  {
   "cell_type": "code",
   "execution_count": 5,
   "metadata": {
    "collapsed": false
   },
   "outputs": [],
   "source": [
    "def sgd_iter(x_train, t_train, w, b):\n",
    "    \"\"\"\n",
    "    :x_train: - 50000x784 dataset of images.\n",
    "    :t_train: - 50000x10 labels for the dataset.\n",
    "    :w: - 784x10 weights matrix.\n",
    "    :b: - 10x1 bias unit.\n",
    "    \"\"\"\n",
    "    learning_rate = 1E-4\n",
    "    for datapoint, label in zip(x_train, t_train):\n",
    "        w_gradient, b_gradient = logreg_gradient(datapoint, label, w, b)\n",
    "        \n",
    "        w += learning_rate * w_gradient\n",
    "        b += learning_rate * b_gradient\n",
    "        \n",
    "    return w, b"
   ]
  },
  {
   "cell_type": "markdown",
   "metadata": {},
   "source": [
    "## 1.2. Train\n",
    "\n",
    "### 1.2.1 Train (10 points)\n",
    "Perform a handful of training iterations through the trainingset. Plot (in one graph) the conditional log-probability of the trainingset and validation set after each iteration.\n"
   ]
  },
  {
   "cell_type": "code",
   "execution_count": 6,
   "metadata": {
    "collapsed": false
   },
   "outputs": [],
   "source": [
    "# Computes the log of the sum of exponential functions\n",
    "# Uses the Log-Sum-Exp trick\n",
    "def log_sum_exp(x):\n",
    "    max_val = x[np.argmax(x)]\n",
    "    return max_val + np.log(np.sum(np.exp(x-max_val)))\n",
    "\n",
    "# Computes the log probability of a model W,b given dataset matrices X and T\n",
    "def log_prob(X,W,b,T):\n",
    "    \n",
    "    #Log_q for each row n in X: w_j^T dot x_n + b_j\n",
    "    log_q = X.dot(W) + b.T \n",
    "    \n",
    "    # Computes log_pn = log_qn - log_Zn for each row n in Log_q (each n in X)\n",
    "    log_p = np.array([lqn - log_sum_exp(lqn) for lqn in log_q])\n",
    "    \n",
    "    # Computes Log_p_tn: for each n in X, computes the log probability of it label T_n: log p(t=t^(n)|x,W,b)\n",
    "    log_pj = np.array([log_p[i,T[i]] for i in range(len(T))])\n",
    "    \n",
    "    # Sum over all N to obtain Log likelihood of entire dataset\n",
    "    return log_pj.sum()\n",
    "\n",
    "def train_model(X, T, X_val, T_val, max_iter, alpha=1E-4):\n",
    "    # Initialization\n",
    "    t_hot = np.array([dummy_encoding(z) for z in T]) # dummy encoding\n",
    "    \n",
    "    W = np.random.random((784, 10)) * 2 * epsilon - epsilon # L x 784\n",
    "    b = np.random.random((10,))\n",
    "    \n",
    "    lp_tr = np.zeros(max_iter) # keep track for each iteration\n",
    "    lp_val = np.zeros(max_iter)\n",
    "    \n",
    "    # main loop\n",
    "    for i in range(max_iter):\n",
    "        \n",
    "        W, b = sgd_iter(X, t_hot, W, b)\n",
    "        \n",
    "        lp_tr[i] = log_prob(X, W, b, T) # Training set Log p\n",
    "        lp_val[i]= log_prob(X_val, W, b, T_val) # Validation set Lop p\n",
    "        \n",
    "        print 'iter#%d, Log-p Training: %f, Valid: %f' % (i+1,lp_tr[i],lp_val[i])\n",
    "    \n",
    "    return W, b, lp_tr, lp_val"
   ]
  },
  {
   "cell_type": "code",
   "execution_count": 7,
   "metadata": {
    "collapsed": false
   },
   "outputs": [
    {
     "name": "stdout",
     "output_type": "stream",
     "text": [
      "iter#1, Log-p Training: -40767.377757, Valid: -7678.575199\n",
      "iter#2, Log-p Training: -31192.488823, Valid: -5748.000233\n",
      "iter#3, Log-p Training: -27272.780851, Valid: -4982.483544\n",
      "iter#4, Log-p Training: -25047.375976, Valid: -4558.996790\n",
      "iter#5, Log-p Training: -23575.610822, Valid: -4284.928693\n",
      "iter#6, Log-p Training: -22512.013825, Valid: -4090.497540\n",
      "iter#7, Log-p Training: -21697.588224, Valid: -3943.975368\n",
      "iter#8, Log-p Training: -21048.063937, Valid: -3828.733703\n",
      "iter#9, Log-p Training: -20514.210080, Valid: -3735.161018\n",
      "iter#10, Log-p Training: -20065.138101, Valid: -3657.288183\n",
      "iter#11, Log-p Training: -19680.379800, Valid: -3591.198574\n",
      "iter#12, Log-p Training: -19345.773577, Valid: -3534.207933\n",
      "iter#13, Log-p Training: -19051.172284, Valid: -3484.410328\n",
      "iter#14, Log-p Training: -18789.091670, Valid: -3440.412141\n",
      "iter#15, Log-p Training: -18553.875484, Valid: -3401.168776\n",
      "iter#16, Log-p Training: -18341.159270, Valid: -3365.880448\n",
      "iter#17, Log-p Training: -18147.514410, Valid: -3333.923451\n",
      "iter#18, Log-p Training: -17970.205009, Valid: -3304.803498\n",
      "iter#19, Log-p Training: -17807.017686, Valid: -3278.123268\n",
      "iter#20, Log-p Training: -17656.139801, Valid: -3253.559325\n"
     ]
    },
    {
     "data": {
      "image/png": "[encoded data removed]",
      "text/plain": [
       "<matplotlib.figure.Figure at 0x105e6a210>"
      ]
     },
     "metadata": {},
     "output_type": "display_data"
    },
    {
     "data": {
      "image/png": "[encoded data removed]",
      "text/plain": [
       "<matplotlib.figure.Figure at 0x10c2cd910>"
      ]
     },
     "metadata": {},
     "output_type": "display_data"
    }
   ],
   "source": [
    "def plot_model(iterations=20):\n",
    "    # Train to find optimum w,b\n",
    "    W_optima, b_optima, lp_tr, lp_val = train_model(x_train[:,:], t_train[:], x_valid[:,:], t_valid[:], iterations)\n",
    "    \n",
    "    # Plot without normalization.\n",
    "    fig = plt.figure()\n",
    "    plt.plot(range(1,iterations+1),lp_tr,'bx-')\n",
    "    plt.plot(range(1,iterations+1),lp_val,'ro-')\n",
    "    plt.legend(['Training Set', 'Validation Set'],loc='lower right')\n",
    "    plt.xlabel('No. of Iterations')\n",
    "    plt.ylabel('Log-Likelihood')\n",
    "    plt.plot()\n",
    "\n",
    "    # Normalize by dataset size\n",
    "    fig = plt.figure()\n",
    "    plt.plot(range(1,iterations+1),lp_tr/x_train.shape[0],'bx-')\n",
    "    plt.plot(range(1,iterations+1),lp_val/x_valid.shape[0],'ro-')\n",
    "    plt.legend(['Training Set', 'Validation Set'],loc='lower right')\n",
    "    plt.xlabel('No. of Iterations')\n",
    "    plt.ylabel('Log-Likelihood normalized by dataset size')\n",
    "    plt.plot()\n",
    "    \n",
    "    return W_optima, b_optima\n",
    "    \n",
    "wopt, bopt = plot_model(20)"
   ]
  },
  {
   "cell_type": "markdown",
   "metadata": {},
   "source": [
    "### 1.2.2 Visualize weights (10 points)\n",
    "Visualize the resulting parameters $\\bW$ after a few iterations through the training set, by treating each column of $\\bW$ as an image. If you want, you can use or edit the `plot_digits(...)` above."
   ]
  },
  {
   "cell_type": "code",
   "execution_count": 8,
   "metadata": {
    "collapsed": false
   },
   "outputs": [
    {
     "data": {
      "image/png": "[encoded data removed]",
      "text/plain": [
       "<matplotlib.figure.Figure at 0x10c36d210>"
      ]
     },
     "metadata": {},
     "output_type": "display_data"
    }
   ],
   "source": [
    "def plot_weights(data, numcols, shape=(28,28)):\n",
    "    numdigits = data.shape[0]\n",
    "    numrows = int(numdigits/numcols)\n",
    "    for i in range(numdigits):\n",
    "        plt.subplot(numrows, numcols, i+1)        \n",
    "        plt.axis('off')\n",
    "        plt.imshow(data[i].reshape(shape), interpolation='nearest', cmap='Greys')\n",
    "    plt.show()\n",
    "    \n",
    "plot_weights(wopt.T, 5)"
   ]
  },
  {
   "cell_type": "markdown",
   "metadata": {},
   "source": [
    "### 1.2.3. Visualize the 8 hardest and 8 easiest digits (10 points)\n",
    "Visualize the 8 digits in the validation set with the highest probability of the true class label under the model.\n",
    "Also plot the 8 digits that were assigned the lowest probability.\n",
    "Ask yourself if these results make sense."
   ]
  },
  {
   "cell_type": "code",
   "execution_count": 9,
   "metadata": {
    "collapsed": false
   },
   "outputs": [],
   "source": [
    "from operator import itemgetter\n",
    "\n",
    "\n",
    "def hardest_easiest_digits(dataset):\n",
    "    # Initialize dictionary to store datapoint index and probability of prediction\n",
    "    validset = {}\n",
    "\n",
    "    for i in range(len(dataset)):\n",
    "        datapoint = dataset[i]\n",
    "        # Compute softmax for specific datapoint\n",
    "        softmax_result = softmax(np.dot(wopt.T, datapoint) + bopt)\n",
    "\n",
    "        # Store predicted label in dictionary\n",
    "        validset[i] = softmax_result[np.argmax(softmax_result)]\n",
    "\n",
    "    sorted_validset = sorted(validset.items(), key=itemgetter(1))\n",
    "    eight_hardest = sorted_validset[:8]\n",
    "    eight_easiest = sorted_validset[-8:]\n",
    "    \n",
    "    return eight_hardest, eight_easiest\n",
    "\n",
    "def plot_hardest(hardest_digits):\n",
    "    \"\"\"\n",
    "    :eight_hardest: - Array of tuples with datapoint index and the probability of prediction.\n",
    "    \"\"\"\n",
    "    print \"The 8 lowest probability (hardest) digits are:\"\n",
    "    plt.figure()\n",
    "    for i in range(len(hardest_digits)):\n",
    "        plt.subplot(2, 4, i+1)\n",
    "        plt.axis('off')\n",
    "        plt.imshow(x_valid[hardest_digits[i][0]].reshape((28,28)), interpolation='nearest', cmap='Greys')\n",
    "        \n",
    "def plot_easiest(easiest_digits):\n",
    "    \"\"\"\n",
    "    :eight_easiest: - Array of tuples with datapoint index and the probability of prediction.\n",
    "    \"\"\"\n",
    "    print \"The 8 highest probability (easiest) digits are:\"\n",
    "    plt.figure()\n",
    "    for i in range(len(easiest_digits)):\n",
    "        plt.subplot(2, 4, i+1)\n",
    "        plt.axis('off')\n",
    "        plt.imshow(x_valid[easiest_digits[i][0]].reshape((28,28)), interpolation='nearest', cmap='Greys')"
   ]
  },
  {
   "cell_type": "code",
   "execution_count": 10,
   "metadata": {
    "collapsed": false
   },
   "outputs": [],
   "source": [
    "# Compute hardest and easiest to predict digits.\n",
    "hardest, easiest = hardest_easiest_digits(x_valid)"
   ]
  },
  {
   "cell_type": "code",
   "execution_count": 11,
   "metadata": {
    "collapsed": false
   },
   "outputs": [
    {
     "name": "stdout",
     "output_type": "stream",
     "text": [
      "The 8 lowest probability (hardest) digits are:\n"
     ]
    },
    {
     "data": {
      "image/png": "[encoded data removed]",
      "text/plain": [
       "<matplotlib.figure.Figure at 0x1071ded90>"
      ]
     },
     "metadata": {},
     "output_type": "display_data"
    }
   ],
   "source": [
    "# Plot hardest\n",
    "plot_hardest(hardest)"
   ]
  },
  {
   "cell_type": "code",
   "execution_count": 12,
   "metadata": {
    "collapsed": false
   },
   "outputs": [
    {
     "name": "stdout",
     "output_type": "stream",
     "text": [
      "The 8 highest probability (easiest) digits are:\n"
     ]
    },
    {
     "data": {
      "image/png": "[encoded data removed]",
      "text/plain": [
       "<matplotlib.figure.Figure at 0x107ca2210>"
      ]
     },
     "metadata": {},
     "output_type": "display_data"
    }
   ],
   "source": [
    "# Plot easiest\n",
    "plot_easiest(easiest)"
   ]
  },
  {
   "cell_type": "markdown",
   "metadata": {},
   "source": [
    "# Part 2. Multilayer perceptron\n",
    "\n",
    "\n",
    "You discover that the predictions by the logistic regression classifier are not good enough for your application: the model is too simple. You want to increase the accuracy of your predictions by using a better model. For this purpose, you're going to use a multilayer perceptron (MLP), a simple kind of neural network. The perceptron wil have a single hidden layer $\\bh$ with $L$ elements. The parameters of the model are $\\bV$ (connections between input $\\bx$ and hidden layer $\\bh$), $\\ba$ (the biases/intercepts of $\\bh$), $\\bW$ (connections between $\\bh$ and $\\log q$) and $\\bb$ (the biases/intercepts of $\\log q$.\n",
    "\n",
    "The conditional probability of the class label $j$ is given by:\n",
    "\n",
    "$\\log p(t = j \\;|\\; \\bx, \\bb, \\bW) = \\log q_j - \\log Z$\n",
    "\n",
    "where $q_j$ are again the unnormalized probabilities per class, and $Z = \\sum_j q_j$ is again the probability normalizing factor. Each $q_j$ is computed using:\n",
    "\n",
    "$\\log q_j = \\bw_j^T \\bh + b_j$\n",
    "\n",
    "where $\\bh$ is a $L \\times 1$ vector with the hidden layer activations (of a hidden layer with size $L$), and $\\bw_j$ is the $j$-th column of $\\bW$ (a $L \\times 10$ matrix). Each element of the hidden layer is computed from the input vector $\\bx$ using:\n",
    "\n",
    "$h_j = \\sigma(\\bv_j^T \\bx + a_j)$\n",
    "\n",
    "where $\\bv_j$ is the $j$-th column of $\\bV$ (a $784 \\times L$ matrix), $a_j$ is the $j$-th element of $\\ba$, and $\\sigma(.)$ is the so-called sigmoid activation function, defined by:\n",
    "\n",
    "$\\sigma(x) = \\frac{1}{1 + \\exp(-x)}$\n",
    "\n",
    "Note that this model is almost equal to the multiclass logistic regression model, but with an extra 'hidden layer' $\\bh$. The activations of this hidden layer can be viewed as features computed from the input, where the feature transformation ($\\bV$ and $\\ba$) is learned.\n",
    "\n",
    "## 2.1 Derive gradient equations (20 points)\n",
    "\n",
    "State (shortly) why $\\nabla_{\\bb} \\mathcal{L}^{(n)}$ is equal to the earlier (multiclass logistic regression) case, and why $\\nabla_{\\bw_j} \\mathcal{L}^{(n)}$ is almost equal to the earlier case.\n",
    "\n",
    "Like in multiclass logistic regression, you should use intermediate variables $\\mathbf{\\delta}_j^q$. In addition, you should use intermediate variables $\\mathbf{\\delta}_j^h = \\frac{\\partial \\mathcal{L}^{(n)}}{\\partial h_j}$.\n",
    "\n",
    "Given an input image, roughly the following intermediate variables should be computed:\n",
    "\n",
    "$\n",
    "\\log \\bq \\rightarrow Z \\rightarrow \\log \\bp \\rightarrow \\mathbf{\\delta}^q \\rightarrow \\mathbf{\\delta}^h\n",
    "$\n",
    "\n",
    "where $\\mathbf{\\delta}_j^h = \\frac{\\partial \\mathcal{L}^{(n)}}{\\partial \\bh_j}$.\n",
    "\n",
    "Give the equations for computing $\\mathbf{\\delta}^h$, and for computing the derivatives of $\\mathcal{L}^{(n)}$ w.r.t. $\\bW$, $\\bb$, $\\bV$ and $\\ba$. \n",
    "\n",
    "You can use the convenient fact that $\\frac{\\partial}{\\partial x} \\sigma(x) = \\sigma(x) (1 - \\sigma(x))$.\n",
    "\n",
    "#####Answer: "
   ]
  },
  {
   "cell_type": "markdown",
   "metadata": {},
   "source": [
    "We know that:\n",
    "$\\dfrac{\\partial L^{(n)}}{\\partial \\log q_j} = (\\mathbb{I}_{t^{(n)}j} - \\dfrac{q_j}{Z^{(n)}}) = \\mathbf{\\delta}^{q}_{j}$\n",
    "\n",
    "$\\mathbf{\\delta}^{h}_{j} = \\dfrac{\\partial L^{(n)}}{\\partial h_j} = \\dfrac{\\partial L^{(n)}}{\\partial \\log q_j} \\cdot \\dfrac{\\partial \\log q_j}{\\partial h_j} = \\mathbf{\\delta}^{q}_{j} \\cdot \\dfrac{\\partial \\log q_j}{\\partial q_j} \\cdot \\dfrac{\\partial q_j}{\\partial h_j} = \\mathbf{\\delta}^{q}_{j} \\cdot \\dfrac{1}{q_j} \\cdot \\dfrac{\\partial exp(w_j^T h_j + b_j)}{\\partial w_j^T h_j + b_j} \\cdot \\dfrac{\\partial w_j^T h_j + b_j}{\\partial h_j} = \\mathbf{\\delta}^{q}_{j} \\cdot \\dfrac{1}{q_j} \\cdot q_j \\cdot w_j = w_j \\cdot \\mathbf{\\delta}^{q}_{j}$\n",
    "\n",
    "$\\nabla_{\\bb} \\mathcal{L}^{(n)}$ is initialized in the hidden layer $\\bh$ and is not influenced by the input layer. Therefore, the hidden layer and the output layer independently can be viewed as multi-class logistic regression. Similarly, we can view $\\nabla_{\\bw_j} \\mathcal{L}^{(n)}$ as a multi-class logistic regression where the input variable is $\\bh$ instead of $\\bx$. This accounts for the small difference between the formulations for $\\nabla_{\\bw_j} \\mathcal{L}^{(n)}$ in the multi-class logistic regression and a 1-layer neural network. A neural network with one hidden layer is equivalent to two nested multi-class logistic regression classifiers.\n",
    "\n",
    "$\\dfrac{\\partial L^{(n)}}{\\partial W} = \\dfrac{\\partial L^{(n)}}{\\partial \\log q} \\cdot \\dfrac{\\partial \\log q}{\\partial W} = \\mathbf{\\delta}^{q} \\cdot h = h \\cdot (\\mathbb{I}_{t^{(n)}j} - \\dfrac{q}{\\sum_j q_j})^T$\n",
    "\n",
    "$\\dfrac{\\partial L^{(n)}}{\\partial b} = \\dfrac{\\partial L^{(n)}}{\\partial \\log q} \\cdot \\dfrac{\\partial \\log q}{\\partial b} = \\mathbf{\\delta}^{q} \\cdot 1 = \\mathbf{\\delta}^{q}$\n",
    "\n",
    "$\\dfrac{\\partial L^{(n)}}{\\partial V} = \\dfrac{\\partial L^{(n)}}{\\partial \\log q} \\cdot \\dfrac{\\partial \\log q}{\\partial h} \\cdot \\dfrac{\\partial h}{\\partial V} = \\mathbf{\\delta}^{q} \\cdot W \\cdot \\dfrac{\\partial \\sigma(V^T x + a)}{\\partial V^T x + a} \\cdot \\dfrac{\\partial V^T x + a}{\\partial V} =  x \\cdot ((W \\cdot {\\mathbf{\\delta}^{q}})  \\times (h \\times (1 - h)))^T$\n",
    "\n",
    "$\\dfrac{\\partial L^{(n)}}{\\partial a} = \\dfrac{\\partial L^{(n)}}{\\partial \\log q} \\cdot \\dfrac{\\partial \\log q}{\\partial h} \\cdot \\dfrac{\\partial h}{\\partial a} = \\mathbf{\\delta}^{q} \\cdot W \\cdot \\dfrac{\\partial \\sigma(V^T x + a)}{\\partial V^T x + a} \\cdot \\dfrac{\\partial V^T x + a}{\\partial a} = (W \\cdot {\\mathbf{\\delta}^{q}})  \\times (h \\times (1 - h))$"
   ]
  },
  {
   "cell_type": "markdown",
   "metadata": {},
   "source": [
    "## 2.2 MAP optimization (10 points)\n",
    "\n",
    "You derived equations for finding the _maximum likelihood_ solution of the parameters. Explain, in a few sentences, how you could extend this approach so that it optimizes towards a _maximum a posteriori_ (MAP) solution of the parameters, with a Gaussian prior on the parameters. \n",
    "\n",
    "#####Answer: "
   ]
  },
  {
   "cell_type": "markdown",
   "metadata": {},
   "source": [
    "By introducing a Gaussian prior on parameters $W$, $V$, $b$ and $a$\n",
    ", we can maximize the posterior distribution on the model parameters by maximizing the product of the likelihood and prior (Bayesian learning). The MAP estimators for each parameter will have a different form than our MLE estimators. In essence we will penalize the model according to our priors and reduce overfitting which is very common with Neural Networks. Note that we will be penalizing the parameters and the bias nodes independently, which is a good method as the bias terms $a$ and $b$ (intercepts) are not subject to the same variance as $V$ or $W$."
   ]
  },
  {
   "cell_type": "markdown",
   "metadata": {},
   "source": [
    "## 2.3. Implement and train a MLP (15 points)\n",
    "\n",
    "Implement a MLP model with a single hidden layer, and code to train the model."
   ]
  },
  {
   "cell_type": "code",
   "execution_count": 13,
   "metadata": {
    "collapsed": true
   },
   "outputs": [],
   "source": [
    "# Some helpers\n",
    "def sigmoid(a):\n",
    "    return 1. / (1. + np.exp(-a))\n",
    "\n",
    "def sigmoid_gradient(a):\n",
    "    return sigmoid(a) * (1. - sigmoid(a))\n",
    "\n",
    "def dummy_encoding(x):\n",
    "    a = np.zeros(10)\n",
    "    a[x] = 1\n",
    "    return a\n",
    "\n",
    "def softmax(z):\n",
    "    return np.exp(z) / np.sum(np.exp(z))\n",
    "\n",
    "def forward_propagate(datapoint, w, b, v, a):\n",
    "    X = datapoint.reshape((784, 1))\n",
    "    \n",
    "    # Compute pre-activation units\n",
    "    h = np.dot(v.T, X) + a\n",
    "        \n",
    "    # Compute hidden layer activation units\n",
    "    h = sigmoid(h)\n",
    "\n",
    "    # Compute unnormalized probabilities for each class (i.e. log q)\n",
    "    z = np.dot(w.T, h) + b\n",
    "\n",
    "    # Compute output using softmax function\n",
    "    output = softmax(z)\n",
    "    \n",
    "    return np.argmax(output)"
   ]
  },
  {
   "cell_type": "code",
   "execution_count": 14,
   "metadata": {
    "collapsed": false
   },
   "outputs": [],
   "source": [
    "def mlp_gradients(datapoint, label, w, b, v, a):\n",
    "    \"\"\"\n",
    "    Propagate information forward\n",
    "    Propagate error back\n",
    "    :datapoint: - a single image represented as a 784x1 column vector\n",
    "    :label: - one-of-K vector representation of the target label for the image\n",
    "    :v: - weights between input layer and hidden layer\n",
    "    :w: - weights between hidden layer and output layer\n",
    "    :a: - bias unit of hidden layer pre-activation\n",
    "    :b: - bias unit of output layer activation\n",
    "    \"\"\"\n",
    "    # Reshape in case of bad shapes\n",
    "    X = datapoint.reshape((784, 1))\n",
    "    t = dummy_encoding(label).reshape((10,1))\n",
    "    \n",
    "    # Compute pre-activation units\n",
    "    h = np.dot(v.T, X) + a\n",
    "        \n",
    "    # Compute hidden layer activation units\n",
    "    h = sigmoid(h)\n",
    "    \n",
    "    # Unormalized probability of class\n",
    "    log_q = np.dot(w.T, h) + b\n",
    "    \n",
    "    # Compute softmax for this probability\n",
    "    sftmax = softmax(log_q).reshape((10,1))\n",
    "    \n",
    "    # Compute gradients\n",
    "    delta_q = t - sftmax\n",
    "    h_gradient = h * (1 - h)\n",
    "    \n",
    "    # Last layer -> Hidden layer\n",
    "    w_gradient = np.dot(h,delta_q.T)\n",
    "    b_gradient = delta_q\n",
    "    \n",
    "    # Hidden layer -> Input layer\n",
    "    v_gradient = np.dot(X,(np.dot(w,delta_q) * h_gradient).T)\n",
    "    a_gradient = np.dot(w,delta_q) * h_gradient\n",
    "    \n",
    "    return w_gradient, b_gradient, v_gradient, a_gradient\n",
    "    \n",
    "def NN_sgd_iter(x_train, t_train, w, b, v, a, learning_rate=1E-2):\n",
    "    w_optimum = w.copy()\n",
    "    b_optimum = b.copy()\n",
    "    v_optimum = v.copy()\n",
    "    a_optimum = a.copy()\n",
    "    for datapoint, label in zip(x_train, t_train):\n",
    "        wgrad, bgrad, vgrad, agrad = mlp_gradients(datapoint, label, w_optimum, b_optimum, v_optimum, a_optimum)\n",
    "        \n",
    "        w_optimum += learning_rate * wgrad\n",
    "        b_optimum += learning_rate * bgrad\n",
    "        \n",
    "        v_optimum += learning_rate * vgrad\n",
    "        a_optimum += learning_rate * agrad\n",
    "    \n",
    "    return w_optimum,b_optimum,v_optimum,a_optimum"
   ]
  },
  {
   "cell_type": "code",
   "execution_count": 15,
   "metadata": {
    "collapsed": false
   },
   "outputs": [],
   "source": [
    "def train_NN(dataset, labels, w, b, v, a, epochs=10, learning_rate=1E-2):\n",
    "    w_optimum = w.copy()\n",
    "    b_optimum = b.copy()\n",
    "    v_optimum = v.copy()\n",
    "    a_optimum = a.copy()\n",
    "    for i in range(epochs):\n",
    "        print \"Starting iteration number {0}\".format(i)\n",
    "        w_optimum, b_optimum, v_optimum, a_optimum = NN_sgd_iter(x_train, t_train, w_optimum, b_optimum, v_optimum, a_optimum)\n",
    "    \n",
    "    return w_optimum, b_optimum, v_optimum, a_optimum"
   ]
  },
  {
   "cell_type": "code",
   "execution_count": 16,
   "metadata": {
    "collapsed": false
   },
   "outputs": [
    {
     "name": "stdout",
     "output_type": "stream",
     "text": [
      "Starting iteration number 0\n",
      "Starting iteration number 1\n",
      "Starting iteration number 2\n",
      "Starting iteration number 3\n",
      "Starting iteration number 4\n",
      "Starting iteration number 5\n",
      "Starting iteration number 6\n",
      "Starting iteration number 7\n",
      "Starting iteration number 8\n",
      "Starting iteration number 9\n",
      "Starting iteration number 10\n",
      "Starting iteration number 11\n",
      "Starting iteration number 12\n",
      "Starting iteration number 13\n",
      "Starting iteration number 14\n",
      "Starting iteration number 15\n",
      "Starting iteration number 16\n",
      "Starting iteration number 17\n",
      "Starting iteration number 18\n",
      "Starting iteration number 19\n"
     ]
    }
   ],
   "source": [
    "# Number of units in hidden layer\n",
    "L = 200\n",
    "\n",
    "# Number of classes\n",
    "K = 10\n",
    "\n",
    "# Initialize weights\n",
    "test_V = np.random.random((784, L)) * 2 * epsilon - epsilon # L x 784\n",
    "test_W = np.random.random((L, K)) * 2 * epsilon - epsilon # 10 x L\n",
    "\n",
    "#Initialize bias units\n",
    "test_a = np.random.random((L, 1))\n",
    "test_b = np.random.random((K, 1))\n",
    "\n",
    "bestw, bestb, bestv, besta = train_NN(x_train, t_train, test_W, test_b, test_V, test_a, 20, 1E-2)"
   ]
  },
  {
   "cell_type": "code",
   "execution_count": 17,
   "metadata": {
    "collapsed": false
   },
   "outputs": [
    {
     "name": "stdout",
     "output_type": "stream",
     "text": [
      "Number of misclassifications is 225\n"
     ]
    }
   ],
   "source": [
    "def test_accuracy(datapoints, labels, w, b, v, a):\n",
    "    err = 0\n",
    "    for datapoint, label in zip(datapoints, labels):\n",
    "        prediction = forward_propagate(datapoint, w, b, v, a)\n",
    "        if label != prediction:\n",
    "            err += 1\n",
    "            \n",
    "    print \"Number of misclassifications is {0}\".format(err)\n",
    "    \n",
    "test_accuracy(x_test, t_test, bestw, bestb, bestv, besta)"
   ]
  },
  {
   "cell_type": "markdown",
   "metadata": {},
   "source": [
    "### 2.3.1. Less than 250 misclassifications on the test set (10 bonus points)\n",
    "\n",
    "You receive an additional 10 bonus points if you manage to train a model with very high accuracy: at most 2.5% misclasified digits on the test set. Note that the test set contains 10000 digits, so you model should misclassify at most 250 digits. This should be achievable with a MLP model with one hidden layer. See results of various models at : `http://yann.lecun.com/exdb/mnist/index.html`. To reach such a low accuracy, you probably need to have a very high $L$ (many hidden units), probably $L > 200$, and apply a strong Gaussian prior on the weights. In this case you are allowed to use the validation set for training.\n",
    "You are allowed to add additional layers, and use convolutional networks, although that is probably not required to reach 2.5% misclassifications."
   ]
  },
  {
   "cell_type": "code",
   "execution_count": null,
   "metadata": {
    "collapsed": false
   },
   "outputs": [],
   "source": [
    "# See above"
   ]
  }
 ],
 "metadata": {
  "kernelspec": {
   "display_name": "Python 2",
   "language": "python",
   "name": "python2"
  },
  "language_info": {
   "codemirror_mode": {
    "name": "ipython",
    "version": 2
   },
   "file_extension": ".py",
   "mimetype": "text/x-python",
   "name": "python",
   "nbconvert_exporter": "python",
   "pygments_lexer": "ipython2",
   "version": "2.7.11"
  }
 },
 "nbformat": 4,
 "nbformat_minor": 0
}
