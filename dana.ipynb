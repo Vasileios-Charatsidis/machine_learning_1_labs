{
 "cells": [
  {
   "cell_type": "markdown",
   "metadata": {},
   "source": [
    "# Lab 1: Linear Regression and Overfitting\n",
    "\n",
    "### Machine Learning and Pattern Recognition, September 2016\n",
    "\n",
    "* The lab exercises should be made in groups of two people.\n",
    "* The deadline is sunday September 25, 23:59.\n",
    "* Assignment should be sent to your teaching assistant. The subject line of your email should be \"\\#lab\\_lastname1\\_lastname2\\_lastname3\".\n",
    "* Put your and your teammates' names in the body of the email\n",
    "* Attach the .IPYNB (IPython Notebook) file containing your code and answers. Naming of the file follows the same rule as the subject line. For example, if the subject line is \"lab01\\_Kingma\\_Hu\", the attached file should be \"lab01\\_Kingma\\_Hu.ipynb\". Only use underscores (\"\\_\") to connect names, otherwise the files cannot be parsed.\n",
    "* Make sure we can run your notebook / scripts!\n",
    "\n",
    "Notes on implementation:\n",
    "\n",
    "* You should write your code and answers in this IPython Notebook: http://ipython.org/notebook.html. If you have problems, please contact your teaching assistant.\n",
    "* Please write your answers right below the questions.\n",
    "* Among the first lines of your notebook should be \"%pylab inline\". This imports all required modules, and your plots will appear inline.\n",
    "* Refer to last week's lab notes, i.e. http://docs.scipy.org/doc/, if you are unsure about what function to use. There are different correct ways to implement each problem!\n",
    "* For this lab, your regression solutions should be in closed form, i.e., should not perform iterative gradient-based optimization but find the exact optimum directly."
   ]
  },
  {
   "cell_type": "code",
   "execution_count": 32,
   "metadata": {
    "collapsed": false
   },
   "outputs": [
    {
     "name": "stdout",
     "output_type": "stream",
     "text": [
      "Populating the interactive namespace from numpy and matplotlib\n"
     ]
    }
   ],
   "source": [
    "%pylab inline\n",
    "import scipy as sp\n",
    "import numpy as np\n",
    "import timeit\n",
    "from pprint import pprint\n",
    "from scipy import stats\n",
    "from matplotlib.pyplot import figure, show"
   ]
  },
  {
   "cell_type": "markdown",
   "metadata": {},
   "source": [
    "$\\newcommand{\\bPhi}{\\mathbf{\\Phi}}$\n",
    "$\\newcommand{\\bx}{\\mathbf{x}}$\n",
    "$\\newcommand{\\bw}{\\mathbf{w}}$\n",
    "$\\newcommand{\\bt}{\\mathbf{t}}$\n",
    "$\\newcommand{\\by}{\\mathbf{y}}$\n",
    "$\\newcommand{\\bm}{\\mathbf{m}}$\n",
    "$\\newcommand{\\bS}{\\mathbf{S}}$\n",
    "$\\newcommand{\\bI}{\\mathbf{I}}$\n",
    "\n",
    "## Part 1: Polynomial Regression"
   ]
  },
  {
   "cell_type": "markdown",
   "metadata": {},
   "source": [
    "### 1.1. Generate sinusoidal data (5 points)\n",
    "Write a method `gen_sinusoidal(N)` that generates toy data like in fig 1.2 of Bishop's book. The method should have a parameter $N$, and should return $N$-dimensional vectors $\\bx$ and $\\bt$, where $\\bx$ contains evenly spaced values from 0 to (including) 2$\\pi$, and the elements $t_i$ of $\\bt$ are distributed according to:\n",
    "\n",
    "$$t_i \\sim \\mathcal{N}(\\mu_i, \\sigma^2)$$\n",
    "\n",
    "where $x_i$ is the $i$-th elements of $\\bf{x}$, the mean $\\mu_i = sin(x_i)$ and the standard deviation $\\sigma = 0.2$."
   ]
  },
  {
   "cell_type": "code",
   "execution_count": 81,
   "metadata": {
    "collapsed": false,
    "scrolled": false
   },
   "outputs": [
    {
     "data": {
      "image/png": "[encoded data removed]",
      "text/plain": [
       "<matplotlib.figure.Figure at 0x7f7b06e8b2d0>"
      ]
     },
     "metadata": {},
     "output_type": "display_data"
    }
   ],
   "source": [
    "def gen_sinusoidal(N):\n",
    "    sigma = 0.2\n",
    "    X = np.linspace(0, 2*np.pi, N)\n",
    "    T = np.random.normal(np.sin(X),sigma)\n",
    "    \n",
    "    return X,T\n",
    "\n",
    "X,T = gen_sinusoidal(20)\n",
    "\n",
    "# plot\n",
    "plt.plot(X, T, 'ro')\n",
    "plt.xlabel('X')\n",
    "plt.ylabel('T')\n",
    "plt.show()"
   ]
  },
  {
   "cell_type": "markdown",
   "metadata": {},
   "source": [
    "### 1.2 Polynomial regression (15 points)\n",
    "\n",
    "Write a method `fit_polynomial(x, t, M)` that finds the maximum-likelihood solution of an _unregularized_ $M$-th order polynomial for some dataset `x`. The error function to minimize w.r.t. $\\bw$ is:\n",
    "\n",
    "$E(\\bw) = \\frac{1}{2} (\\bPhi\\bw - \\bt)^T(\\bPhi\\bw - \\bt)$\n",
    "\n",
    "where $\\bPhi$ is the _feature matrix_ (or _design matrix_) as explained in Bishop's book at section 3.1.1, $\\bt$ is the vector of target values. Your method should return a vector $\\bw$ with the maximum-likelihood parameter estimates. "
   ]
  },
  {
   "cell_type": "code",
   "execution_count": 9,
   "metadata": {
    "collapsed": false
   },
   "outputs": [],
   "source": [
    "# computes the inverse of a Square matrix using LU decomposition\n",
    "def compute_inverse(X):\n",
    "    \n",
    "    N = X.shape[0]\n",
    "    \n",
    "    # compute LU decomposition \n",
    "    L,U = sp.linalg.lu(X, permute_l = True)\n",
    "    \n",
    "    # NxN identity matrix \n",
    "    I = np.identity(N)\n",
    "    \n",
    "    # solves two systems of linear equations as follows\n",
    "    # X = LU\n",
    "    # L.Z = I\n",
    "    # U.M = Z, where M = X^-1\n",
    "    Z = np.array([np.linalg.solve(U,z) for z in [np.linalg.solve(L,I[:,i]) for i in range(0,N)]])\n",
    "    return Z\n",
    "\n",
    "# Creates a design matrix of order M\n",
    "def poly_design_matrix(X, M):\n",
    "    return np.array([[x**i for i in range(0,M+1)] for x in X])\n",
    "\n",
    "\n",
    "# computes $w = \\lp \\Phi^T \\Phi\\rp^{-1} \\cdot \\Phi \\cdot t$\n",
    "def fit_polynomial(X,T,M):\n",
    "    \n",
    "    # construct design matrix\n",
    "    phi = poly_design_matrix(X,M)\n",
    "    \n",
    "    # closed solution with Gaussian noise assumption\n",
    "    w = compute_inverse(phi.T.dot(phi)).dot(phi.T.dot(T))\n",
    "    return w\n",
    "\n",
    "# create a dataset N=20\n",
    "# M = 3\n",
    "# X,T = gen_sinusoidal(20)\n",
    "# w = fit_polynomial(X,T,M)\n",
    "# print w.shape\n",
    "    \n",
    "# plt.plot(X, T, 'ro')\n",
    "# plt.xlabel('X')\n",
    "# plt.ylabel('T')\n",
    "\n",
    "# phi = poly_design_matrix(X,M)\n",
    "\n",
    "# plt.plot(X,phi.dot(w),'b-')\n",
    "# plt.show()\n",
    "\n",
    "\n"
   ]
  },
  {
   "cell_type": "markdown",
   "metadata": {},
   "source": [
    "### 1.3 Plot (5 points)\n",
    "Sample a dataset with $N=9$, and fit four polynomials with $M \\in (0, 1, 3, 9)$.\n",
    "For each value of $M$, plot the prediction function, along with the data and the original sine function. The resulting figure should look similar to fig 1.4 of the Bishop's book. Note that you can use matplotlib's `plt.pyplot(.)` functionality for creating grids of figures."
   ]
  },
  {
   "cell_type": "code",
   "execution_count": 1,
   "metadata": {
    "collapsed": false
   },
   "outputs": [
    {
     "ename": "NameError",
     "evalue": "name 'gen_sinusoidal' is not defined",
     "output_type": "error",
     "traceback": [
      "\u001b[0;31m---------------------------------------------------------------------------\u001b[0m",
      "\u001b[0;31mNameError\u001b[0m                                 Traceback (most recent call last)",
      "\u001b[0;32m<ipython-input-1-c8bbf341c6bc>\u001b[0m in \u001b[0;36m<module>\u001b[0;34m()\u001b[0m\n\u001b[0;32m----> 1\u001b[0;31m \u001b[0mX\u001b[0m\u001b[0;34m,\u001b[0m\u001b[0mT\u001b[0m \u001b[0;34m=\u001b[0m \u001b[0mgen_sinusoidal\u001b[0m\u001b[0;34m(\u001b[0m\u001b[0;36m9\u001b[0m\u001b[0;34m)\u001b[0m\u001b[0;34m\u001b[0m\u001b[0m\n\u001b[0m\u001b[1;32m      2\u001b[0m \u001b[0mM\u001b[0m \u001b[0;34m=\u001b[0m \u001b[0;34m[\u001b[0m\u001b[0;36m0\u001b[0m\u001b[0;34m,\u001b[0m\u001b[0;36m1\u001b[0m\u001b[0;34m,\u001b[0m\u001b[0;36m3\u001b[0m\u001b[0;34m,\u001b[0m\u001b[0;36m9\u001b[0m\u001b[0;34m]\u001b[0m\u001b[0;34m\u001b[0m\u001b[0m\n\u001b[1;32m      3\u001b[0m \u001b[0mc\u001b[0m \u001b[0;34m=\u001b[0m \u001b[0;34m[\u001b[0m\u001b[0;34m'b'\u001b[0m\u001b[0;34m,\u001b[0m\u001b[0;34m'g'\u001b[0m\u001b[0;34m,\u001b[0m\u001b[0;34m'r'\u001b[0m\u001b[0;34m,\u001b[0m\u001b[0;34m'c'\u001b[0m\u001b[0;34m]\u001b[0m\u001b[0;34m\u001b[0m\u001b[0m\n\u001b[1;32m      4\u001b[0m \u001b[0;34m\u001b[0m\u001b[0m\n\u001b[1;32m      5\u001b[0m \u001b[0mfig\u001b[0m \u001b[0;34m=\u001b[0m \u001b[0mplt\u001b[0m\u001b[0;34m.\u001b[0m\u001b[0mfigure\u001b[0m\u001b[0;34m(\u001b[0m\u001b[0;34m)\u001b[0m\u001b[0;34m\u001b[0m\u001b[0m\n",
      "\u001b[0;31mNameError\u001b[0m: name 'gen_sinusoidal' is not defined"
     ]
    }
   ],
   "source": [
    "X,T = gen_sinusoidal(9)\n",
    "M = [0,1,3,9]\n",
    "c = ['b','g','r','c']\n",
    "\n",
    "fig = plt.figure()\n",
    "\n",
    "for i in range(0,len(M)):\n",
    "    Phi = poly_design_matrix(X,M[i])\n",
    "    w = fit_polynomial(X,T,M[i])\n",
    "    \n",
    "    d = arange(0.0, 2.1*np.pi, 0.1)\n",
    "    \n",
    "    if i==0:\n",
    "        ax = fig.add_subplot(221+i)\n",
    "    else:\n",
    "        ax = fig.add_subplot(221+i,sharex=ax, sharey=ax)\n",
    "    ax.plot(X,T,'k.') #data points\n",
    "    ax.plot(d,np.sin(d),'b-') #sine function\n",
    "    ax.plot(X, Phi.dot(w), c[i]+'o') #estimates\n",
    "    ax.set_title(('M='+str(M[i])))\n",
    "    ax.set_xlabel('X')\n",
    "    ax.set_ylabel('T')\n",
    "\n",
    "plt.tight_layout()  \n",
    "fig.set_figheight(8)\n",
    "fig.set_figwidth(8)"
   ]
  },
  {
   "cell_type": "markdown",
   "metadata": {},
   "source": [
    "### 1.4 Regularized linear regression (10 points)\n",
    "\n",
    "Write a method `fit_polynomial_reg(x, t, M, lamb)` that fits a _regularized_ $M$-th order polynomial to the sinusoidal data, as discussed in the lectures, where `lamb` is the regularization term _lambda_. (Note that 'lambda' cannot be used as a variable name in Python since it has a special meaning). The error function to minimize w.r.t. $\\bw$:\n",
    "\n",
    "$E(\\bw) = \\frac{1}{2} (\\bPhi\\bw - \\bt)^T(\\bPhi\\bw - \\bt) + \\frac{\\lambda}{2} \\mathbf{w}^T \\mathbf{w}$\n",
    "\n",
    "For background, see section 3.1.4 of Bishop's book."
   ]
  },
  {
   "cell_type": "code",
   "execution_count": 98,
   "metadata": {
    "collapsed": false
   },
   "outputs": [],
   "source": [
    "# computes $w = \\lp \\Phi^T \\Phi\\rp^{-1} \\cdot \\Phi \\cdot t$\n",
    "def fit_polynomial_reg(X,T,M,lamb):\n",
    "    # construct design matrix\n",
    "    phi = poly_design_matrix(X,M)\n",
    "    \n",
    "    #inv = compute_inverse(lamb*np.identity(phi.shape[1])+phi.T.dot(phi))\n",
    "    inv = np.linalg.pinv(lamb*np.identity(phi.shape[1])+phi.T.dot(phi))\n",
    "    \n",
    "    # closed solution with Gaussian noise assumption\n",
    "    return inv.dot(phi.T.dot(T))"
   ]
  },
  {
   "cell_type": "markdown",
   "metadata": {},
   "source": [
    "\n",
    "\n",
    "\n",
    "\n",
    "\n",
    "### 1.5 Model selection by cross-validation (10 points)\n",
    "Use cross-validation to find a good choice of $M$ and $\\lambda$, given a dataset of $N=9$ datapoints generated with `gen_sinusoidal(9)`. You should write a function that tries (loops over) a reasonable range of choices of $M$ and $\\lambda$, and returns the choice with the best cross-validation error. In this case you can use $K=9$ folds, corresponding to _leave-one-out_ crossvalidation.\n",
    "\n",
    "You can let $M \\in (0, 1, ..., 10)$, and let $\\lambda \\in (e^{-10}, e^{-9}, ..., e^{0})$.\n",
    "\n",
    "To get you started, here's a method you can use to generate indices of cross-validation folds."
   ]
  },
  {
   "cell_type": "code",
   "execution_count": 116,
   "metadata": {
    "collapsed": false,
    "scrolled": false
   },
   "outputs": [
    {
     "name": "stderr",
     "output_type": "stream",
     "text": [
      "/home/dana/.local/lib/python2.7/site-packages/ipykernel/__main__.py:8: VisibleDeprecationWarning: using a non-integer number instead of an integer will result in an error in the future\n"
     ]
    },
    {
     "name": "stdout",
     "output_type": "stream",
     "text": [
      "Optimal M: 6\n",
      "Optimal Lambda: e^-1\n",
      "Min RSME: 0.135335\n"
     ]
    },
    {
     "data": {
      "image/png": "[encoded data removed]",
      "text/plain": [
       "<matplotlib.figure.Figure at 0x7f7b06b60790>"
      ]
     },
     "metadata": {},
     "output_type": "display_data"
    },
    {
     "data": {
      "text/plain": [
       "<matplotlib.text.Text at 0x7f7b0517dcd0>"
      ]
     },
     "execution_count": 116,
     "metadata": {},
     "output_type": "execute_result"
    },
    {
     "data": {
      "image/png": "[encoded data removed]",
      "text/plain": [
       "<matplotlib.figure.Figure at 0x7f7b076e3410>"
      ]
     },
     "metadata": {},
     "output_type": "display_data"
    }
   ],
   "source": [
    "def kfold_indices(N, k):\n",
    "    all_indices = np.arange(N,dtype=int)\n",
    "    np.random.shuffle(all_indices)\n",
    "    idx = np.floor(np.linspace(0,N,k+1))\n",
    "    train_folds = []\n",
    "    valid_folds = []\n",
    "    for fold in range(k):\n",
    "        valid_indices = all_indices[idx[fold]:idx[fold+1]]\n",
    "        valid_folds.append(valid_indices)\n",
    "        train_folds.append(np.setdiff1d(all_indices, valid_indices))\n",
    "    return train_folds, valid_folds\n",
    "\n",
    "def mse(T_pred,T):\n",
    "    return .5*(T_pred-T).T.dot(T_pred-T)\n",
    "\n",
    "# Returns RMSE\n",
    "def rmse(T_pred,T):\n",
    "    return np.sqrt(2*mse(T_pred,T)/len(T))\n",
    "\n",
    "\n",
    "# Returns the CV prediction error for a single configuration of lambda and m\n",
    "def model_error(lamb, m, X_tr, T_tr, X_te, T_te):\n",
    "    \n",
    "    # train model on training data\n",
    "    w = fit_polynomial_reg(X_tr,T_tr,m,lamb)\n",
    "    \n",
    "    # Design matrix for testing set\n",
    "    Phi_te = poly_design_matrix(X_te,m)\n",
    "    return rmse(Phi_te.dot(w),T_te)\n",
    "\n",
    "\n",
    "# CV parameters\n",
    "N = 9\n",
    "M = np.arange(0,11,1)\n",
    "Lamb = np.exp(np.arange(-10,1))\n",
    "K = 9\n",
    "\n",
    "# generate data and CV indices\n",
    "X,T = gen_sinusoidal(N)\n",
    "tr_idx,te_idx = kfold_indices(N,K)\n",
    "\n",
    "# error matrix\n",
    "# row: lambda, columns: M\n",
    "E = np.matrix(np.zeros([len(Lamb),len(M)]))\n",
    "\n",
    "# Run CV\n",
    "for k in range(0,K):\n",
    "    \n",
    "    #training set\n",
    "    X_tr, T_tr = X[tr_idx[k]], T[tr_idx[k]]\n",
    "    \n",
    "    #testing set\n",
    "    X_te, T_te = X[te_idx[k]], T[te_idx[k]]\n",
    "        \n",
    "    # add error to matrix error\n",
    "    E += np.matrix([[model_error(lamb, m, X_tr, T_tr, X_te, T_te) for m in M] for lamb in Lamb])/float(K)\n",
    "\n",
    "minL_i,minM_i = np.where(E == E.min())\n",
    "min_lambda, min_M, min_rmse = Lamb[minL_i], M[minM_i], E.min()\n",
    "print 'Optimal M: %d' % min_M\n",
    "print 'Optimal Lambda: e^%d'% log(min_lambda)\n",
    "print 'Min RSME: %f' % E.min()    \n",
    "\n",
    "# plot\n",
    "fig = plt.figure()\n",
    "plt.plot(np.log(Lamb),np.log(E),'-')\n",
    "plt.legend(['M='+str(m) for m in M])\n",
    "plt.xlabel('Log Lambda')\n",
    "plt.ylabel('log RMSE')\n",
    "plot(np.log(min_lambda),log(min_rmse),'kx')\n",
    "fig.set_figheight(8)\n",
    "fig.set_figwidth(8)\n",
    "plt.show()\n",
    "\n",
    "plt.figure()\n",
    "x_mesh, y_mesh = np.meshgrid(np.arange(-10,1), np.arange(0,11))\n",
    "cp = plt.contourf(x_mesh, y_mesh, log(E))\n",
    "plot(np.log(min_lambda),min_M,'k*')\n",
    "plt.xlabel('Log Lambda')\n",
    "plt.ylabel('M')\n",
    "\n"
   ]
  },
  {
   "cell_type": "markdown",
   "metadata": {},
   "source": [
    "Create a comprehensible plot of the cross-validation error for each choice of $M$ and $\\lambda$. Highlight the best choice. \n",
    "\n",
    "_Question_: Explain over-fitting and underfitting, illuminated by your plot. Explain the relationship with model bias and model variance."
   ]
  },
  {
   "cell_type": "markdown",
   "metadata": {},
   "source": [
    "Answer:"
   ]
  },
  {
   "cell_type": "markdown",
   "metadata": {},
   "source": [
    "### 1.6 Plot best cross-validated fit (5 points)\n",
    "\n",
    "For some dataset with $N = 9$, plot the model with the optimal $M$ and $\\lambda$ according to the cross-validation error, using the method you just wrote. Let the plot make clear which $M$ and $\\lambda$ were found."
   ]
  },
  {
   "cell_type": "code",
   "execution_count": null,
   "metadata": {
    "collapsed": false
   },
   "outputs": [],
   "source": []
  },
  {
   "cell_type": "markdown",
   "metadata": {},
   "source": [
    "## Part 2: Bayesian Linear (Polynomial) Regression\n",
    "\n",
    "### 2.1 Sinusoidal data 2 (5 points)\n",
    "\n",
    "Write a function `gen_sinusoidal2(N)` that behaves identically to `gen_sinusoidal(N)` except that the generated values $x_i$ are not linearly spaced, but drawn from a uniform distribution between $0$ and $2 \\pi$."
   ]
  },
  {
   "cell_type": "code",
   "execution_count": null,
   "metadata": {
    "collapsed": false
   },
   "outputs": [],
   "source": []
  },
  {
   "cell_type": "markdown",
   "metadata": {},
   "source": [
    "### 2.2 Compute Posterior (15 points)\n",
    "\n",
    "You're going to implement a Bayesian linear regression model, and fit it to the sinusoidal data. Your regression model has a zero-mean isotropic Gaussian prior over the parameters, governed by a single (scalar) precision parameter $\\alpha$, i.e.:\n",
    "\n",
    "$$p(\\bw \\;|\\; \\alpha) = \\mathcal{N}(\\bw \\;|\\; 0, \\alpha^{-1} \\bI)$$\n",
    "\n",
    "The covariance and mean of the posterior are given by:\n",
    "\n",
    "$$\\bS_N= \\left( \\alpha \\bI + \\beta \\bPhi^T \\bPhi \\right)^{-1} $$\n",
    "$$\\bm_N = \\beta\\; \\bS_N \\bPhi^T \\bt$$\n",
    "\n",
    "where $\\alpha$ is the precision of the predictive distribution, and $\\beta$ is the noise precision. \n",
    "See MLPR chapter 3.3 for background.\n",
    "\n",
    "Write a method `fit_polynomial_bayes(x, t, M, alpha, beta)` that returns the mean $\\bm_N$ and covariance $\\bS_N$ of the posterior for a $M$-th order polynomial, given a dataset, where `x`, `t` and `M` have the same meaning as in question 1.2."
   ]
  },
  {
   "cell_type": "code",
   "execution_count": null,
   "metadata": {
    "collapsed": false
   },
   "outputs": [],
   "source": []
  },
  {
   "cell_type": "markdown",
   "metadata": {},
   "source": [
    "### 2.3 Prediction (10 points)\n",
    "\n",
    "The predictive distribution of Bayesian linear regression is:\n",
    "\n",
    "$$ p(t \\;|\\; \\bx, \\bt, \\alpha, \\beta) = \\mathcal{N}(t \\;|\\; \\bm_N^T \\phi(\\bx), \\sigma_N^2(\\bx))$$\n",
    "\n",
    "$$ \\sigma_N^2 = \\frac{1}{\\beta} + \\phi(\\bx)^T \\bS_N \\phi(\\bx) $$\n",
    "\n",
    "where $\\phi(\\bx)$ are the computed features for a new datapoint $\\bx$, and $t$ is the predicted variable for datapoint $\\bx$. \n",
    "\n",
    "Write a function that `predict_polynomial_bayes(x, m, S, beta)` that returns the predictive mean and variance given a new datapoint `x`, posterior mean `m`, posterior variance `S` and a choice of model variance `beta`."
   ]
  },
  {
   "cell_type": "code",
   "execution_count": null,
   "metadata": {
    "collapsed": false
   },
   "outputs": [],
   "source": []
  },
  {
   "cell_type": "markdown",
   "metadata": {},
   "source": [
    "### 2.4 Plot predictive distribution (10 points)\n",
    "\n",
    "a) (5 points) Generate 7 datapoints with `gen_sinusoidal2(7)`. Compute the posterior mean and covariance for a Bayesian polynomial regression model with $M=5$, $\\alpha=\\frac{1}{2}$ and $\\beta=\\frac{1}{0.2^2}$.\n",
    "Plot the Bayesian predictive distribution, where you plot (for $x$ between 0 and $2 \\pi$) $t$'s predictive mean and a 1-sigma predictive variance using `plt.fill_between(..., alpha=0.1)` (the alpha argument induces transparency).\n",
    "\n",
    "Include the datapoints in your plot.\n",
    "\n",
    "b) (5 points) For a second plot, draw 100 samples from the parameters' posterior distribution. Each of these samples is a certain choice of parameters for 5-th order polynomial regression. \n",
    "Display each of these 100 polynomials."
   ]
  },
  {
   "cell_type": "code",
   "execution_count": null,
   "metadata": {
    "collapsed": false
   },
   "outputs": [],
   "source": []
  },
  {
   "cell_type": "markdown",
   "metadata": {},
   "source": [
    "### 2.5 Additional questions (10 points)\n",
    "\n",
    "a) (5 points) Why is $\\beta=\\frac{1}{0.2^2}$ the best choice of $\\beta$ in section 2.4?\n",
    "\n",
    "b) (5 points) In the case of Bayesian linear regression, both the posterior of the parameters $p(\\bw \\;|\\; \\bt, \\alpha, \\beta)$ and the predictive distribution $p(t \\;|\\; \\bw, \\beta)$ are Gaussian. In consequence (and conveniently), $p(t \\;|\\; \\bt, \\alpha, \\beta)$ is also Gaussian (See Bishop's book section 3.3.2 and homework 2 question 4). This is actually one of the (rare) cases where we can make Bayesian predictions without resorting to approximative methods.\n",
    "\n",
    "Suppose you have to work with some model $p(t\\;|\\;x,\\bw)$ with parameters $\\bw$, where the posterior distribution $p(\\bw\\;|\\;\\mathcal{D})$ given dataset $\\mathcal{D}$ can not be integrated out when making predictions, but where you can still generate samples from the posterior distribution of the parameters. Explain how you can still make approximate Bayesian predictions using samples from the parameters' posterior distribution."
   ]
  },
  {
   "cell_type": "markdown",
   "metadata": {
    "collapsed": false
   },
   "source": [
    "a. As we know the precision parameter $\\beta = \\frac{1}{sigma^2}$, it is the correct choice because it represents the exact variance of the noise that we generate our samples with. \n",
    "\n",
    "b. We use the same method from q2.4b (Monte Carlo sampling). In the absence of closed form solutions, by making a large number of samples from the parameters posterior distribution, we can make Bayesian predictions. The purpose is to provide an efficient method that uses averaging and randomness to make approximate predictions. Once we have drawn a large number of samples from the parameters posterior distribution, we can compute means and confidence intervals to make predictions and quantify our certainty in them."
   ]
  }
 ],
 "metadata": {
  "kernelspec": {
   "display_name": "Python 2",
   "language": "python",
   "name": "python2"
  },
  "language_info": {
   "codemirror_mode": {
    "name": "ipython",
    "version": 2
   },
   "file_extension": ".py",
   "mimetype": "text/x-python",
   "name": "python",
   "nbconvert_exporter": "python",
   "pygments_lexer": "ipython2",
   "version": "2.7.11"
  }
 },
 "nbformat": 4,
 "nbformat_minor": 0
}
